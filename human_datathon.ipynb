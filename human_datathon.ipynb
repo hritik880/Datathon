{
  "nbformat": 4,
  "nbformat_minor": 0,
  "metadata": {
    "colab": {
      "name": "human_datathon.ipynb",
      "provenance": [],
      "collapsed_sections": [],
      "include_colab_link": true
    },
    "kernelspec": {
      "name": "python3",
      "display_name": "Python 3"
    },
    "accelerator": "GPU"
  },
  "cells": [
    {
      "cell_type": "markdown",
      "metadata": {
        "id": "view-in-github",
        "colab_type": "text"
      },
      "source": [
        "<a href=\"https://colab.research.google.com/github/hritik880/Datathon/blob/main/human_datathon.ipynb\" target=\"_parent\"><img src=\"https://colab.research.google.com/assets/colab-badge.svg\" alt=\"Open In Colab\"/></a>"
      ]
    },
    {
      "cell_type": "code",
      "metadata": {
        "id": "omfqIe3yb8tD"
      },
      "source": [
        "import numpy as np\n",
        "import pandas as pd # Data analysis and manipultion tool\n",
        "\n",
        "# to ignore warnings\n",
        "import warnings\n",
        "warnings.filterwarnings(\"ignore\")"
      ],
      "execution_count": null,
      "outputs": []
    },
    {
      "cell_type": "code",
      "metadata": {
        "id": "DFpkT8yEcCoq"
      },
      "source": [
        "df = pd.read_csv(\"https://raw.githubusercontent.com/dphi-official/Datasets/master/hippocorpus/train_set_label.csv\" )"
      ],
      "execution_count": null,
      "outputs": []
    },
    {
      "cell_type": "code",
      "metadata": {
        "colab": {
          "base_uri": "https://localhost:8080/"
        },
        "id": "-j0TmsutcLej",
        "outputId": "8727f170-1f7f-46c0-878b-6367fa8100ea"
      },
      "source": [
        "df.isna().sum()"
      ],
      "execution_count": null,
      "outputs": [
        {
          "output_type": "execute_result",
          "data": {
            "text/plain": [
              "Solidity           0\n",
              "Eccentricity       0\n",
              "EquivDiameter      0\n",
              "Extrema            0\n",
              "FilledArea         0\n",
              "Extent             0\n",
              "Orientation        0\n",
              "EulerNumber        0\n",
              "BoundingBox1       0\n",
              "BoundingBox2       0\n",
              "BoundingBox3       0\n",
              "BoundingBox4       0\n",
              "ConvexHull1        0\n",
              "ConvexHull2        0\n",
              "ConvexHull3        0\n",
              "ConvexHull4        0\n",
              "MajorAxisLength    0\n",
              "MinorAxisLength    0\n",
              "Perimeter          0\n",
              "ConvexArea         0\n",
              "Centroid1          0\n",
              "Centroid2          0\n",
              "Area               0\n",
              "microorganism      0\n",
              "dtype: int64"
            ]
          },
          "metadata": {
            "tags": []
          },
          "execution_count": 14
        }
      ]
    },
    {
      "cell_type": "code",
      "metadata": {
        "colab": {
          "base_uri": "https://localhost:8080/",
          "height": 304
        },
        "id": "eNTS_0F-cPOg",
        "outputId": "eb886046-faf8-44f7-9c7a-2ac303624230"
      },
      "source": [
        "df.describe()"
      ],
      "execution_count": null,
      "outputs": [
        {
          "output_type": "execute_result",
          "data": {
            "text/html": [
              "<div>\n",
              "<style scoped>\n",
              "    .dataframe tbody tr th:only-of-type {\n",
              "        vertical-align: middle;\n",
              "    }\n",
              "\n",
              "    .dataframe tbody tr th {\n",
              "        vertical-align: top;\n",
              "    }\n",
              "\n",
              "    .dataframe thead th {\n",
              "        text-align: right;\n",
              "    }\n",
              "</style>\n",
              "<table border=\"1\" class=\"dataframe\">\n",
              "  <thead>\n",
              "    <tr style=\"text-align: right;\">\n",
              "      <th></th>\n",
              "      <th>Solidity</th>\n",
              "      <th>Eccentricity</th>\n",
              "      <th>EquivDiameter</th>\n",
              "      <th>Extrema</th>\n",
              "      <th>FilledArea</th>\n",
              "      <th>Extent</th>\n",
              "      <th>Orientation</th>\n",
              "      <th>EulerNumber</th>\n",
              "      <th>BoundingBox1</th>\n",
              "      <th>BoundingBox2</th>\n",
              "      <th>BoundingBox3</th>\n",
              "      <th>BoundingBox4</th>\n",
              "      <th>ConvexHull1</th>\n",
              "      <th>ConvexHull2</th>\n",
              "      <th>ConvexHull3</th>\n",
              "      <th>ConvexHull4</th>\n",
              "      <th>MajorAxisLength</th>\n",
              "      <th>MinorAxisLength</th>\n",
              "      <th>Perimeter</th>\n",
              "      <th>ConvexArea</th>\n",
              "      <th>Centroid1</th>\n",
              "      <th>Centroid2</th>\n",
              "      <th>Area</th>\n",
              "      <th>microorganism</th>\n",
              "    </tr>\n",
              "  </thead>\n",
              "  <tbody>\n",
              "    <tr>\n",
              "      <th>count</th>\n",
              "      <td>13824.000000</td>\n",
              "      <td>13824.000000</td>\n",
              "      <td>13824.000000</td>\n",
              "      <td>13824.000000</td>\n",
              "      <td>13824.000000</td>\n",
              "      <td>13824.000000</td>\n",
              "      <td>13824.000000</td>\n",
              "      <td>13824.000000</td>\n",
              "      <td>13824.000000</td>\n",
              "      <td>13824.000000</td>\n",
              "      <td>13824.000000</td>\n",
              "      <td>13824.000000</td>\n",
              "      <td>13824.000000</td>\n",
              "      <td>13824.000000</td>\n",
              "      <td>13824.000000</td>\n",
              "      <td>13824.000000</td>\n",
              "      <td>13824.000000</td>\n",
              "      <td>13824.000000</td>\n",
              "      <td>13824.000000</td>\n",
              "      <td>13824.000000</td>\n",
              "      <td>13824.000000</td>\n",
              "      <td>13824.000000</td>\n",
              "      <td>13824.000000</td>\n",
              "      <td>13824.000000</td>\n",
              "    </tr>\n",
              "    <tr>\n",
              "      <th>mean</th>\n",
              "      <td>0.483543</td>\n",
              "      <td>0.816668</td>\n",
              "      <td>0.158836</td>\n",
              "      <td>0.528733</td>\n",
              "      <td>0.027930</td>\n",
              "      <td>0.390554</td>\n",
              "      <td>0.480102</td>\n",
              "      <td>0.967930</td>\n",
              "      <td>0.483085</td>\n",
              "      <td>0.444948</td>\n",
              "      <td>0.085813</td>\n",
              "      <td>0.123932</td>\n",
              "      <td>0.494234</td>\n",
              "      <td>0.494234</td>\n",
              "      <td>0.487924</td>\n",
              "      <td>0.487700</td>\n",
              "      <td>0.082797</td>\n",
              "      <td>0.043939</td>\n",
              "      <td>0.049383</td>\n",
              "      <td>0.012236</td>\n",
              "      <td>0.515745</td>\n",
              "      <td>0.479954</td>\n",
              "      <td>0.048216</td>\n",
              "      <td>2.500000</td>\n",
              "    </tr>\n",
              "    <tr>\n",
              "      <th>std</th>\n",
              "      <td>0.209131</td>\n",
              "      <td>0.168313</td>\n",
              "      <td>0.111070</td>\n",
              "      <td>0.238477</td>\n",
              "      <td>0.048621</td>\n",
              "      <td>0.218697</td>\n",
              "      <td>0.310809</td>\n",
              "      <td>0.045840</td>\n",
              "      <td>0.239790</td>\n",
              "      <td>0.227774</td>\n",
              "      <td>0.088206</td>\n",
              "      <td>0.111279</td>\n",
              "      <td>0.236573</td>\n",
              "      <td>0.236573</td>\n",
              "      <td>0.238699</td>\n",
              "      <td>0.239473</td>\n",
              "      <td>0.086908</td>\n",
              "      <td>0.052404</td>\n",
              "      <td>0.068806</td>\n",
              "      <td>0.041491</td>\n",
              "      <td>0.239394</td>\n",
              "      <td>0.224588</td>\n",
              "      <td>0.065958</td>\n",
              "      <td>1.118074</td>\n",
              "    </tr>\n",
              "    <tr>\n",
              "      <th>min</th>\n",
              "      <td>0.000000</td>\n",
              "      <td>0.000000</td>\n",
              "      <td>0.000000</td>\n",
              "      <td>0.000000</td>\n",
              "      <td>0.000000</td>\n",
              "      <td>0.000000</td>\n",
              "      <td>0.000000</td>\n",
              "      <td>0.000000</td>\n",
              "      <td>0.000000</td>\n",
              "      <td>0.000000</td>\n",
              "      <td>0.000000</td>\n",
              "      <td>0.000000</td>\n",
              "      <td>0.000000</td>\n",
              "      <td>0.000000</td>\n",
              "      <td>0.000000</td>\n",
              "      <td>0.000000</td>\n",
              "      <td>0.000000</td>\n",
              "      <td>0.000073</td>\n",
              "      <td>0.000000</td>\n",
              "      <td>0.000000</td>\n",
              "      <td>0.000000</td>\n",
              "      <td>0.000000</td>\n",
              "      <td>0.000000</td>\n",
              "      <td>1.000000</td>\n",
              "    </tr>\n",
              "    <tr>\n",
              "      <th>25%</th>\n",
              "      <td>0.298202</td>\n",
              "      <td>0.719613</td>\n",
              "      <td>0.091416</td>\n",
              "      <td>0.352069</td>\n",
              "      <td>0.008160</td>\n",
              "      <td>0.213847</td>\n",
              "      <td>0.165487</td>\n",
              "      <td>0.962403</td>\n",
              "      <td>0.307823</td>\n",
              "      <td>0.266257</td>\n",
              "      <td>0.028391</td>\n",
              "      <td>0.052066</td>\n",
              "      <td>0.320683</td>\n",
              "      <td>0.320683</td>\n",
              "      <td>0.317745</td>\n",
              "      <td>0.311429</td>\n",
              "      <td>0.025956</td>\n",
              "      <td>0.020286</td>\n",
              "      <td>0.011265</td>\n",
              "      <td>0.001776</td>\n",
              "      <td>0.336157</td>\n",
              "      <td>0.314578</td>\n",
              "      <td>0.015655</td>\n",
              "      <td>1.750000</td>\n",
              "    </tr>\n",
              "    <tr>\n",
              "      <th>50%</th>\n",
              "      <td>0.466642</td>\n",
              "      <td>0.869592</td>\n",
              "      <td>0.135782</td>\n",
              "      <td>0.524431</td>\n",
              "      <td>0.015266</td>\n",
              "      <td>0.354430</td>\n",
              "      <td>0.522795</td>\n",
              "      <td>0.980866</td>\n",
              "      <td>0.459683</td>\n",
              "      <td>0.449033</td>\n",
              "      <td>0.063432</td>\n",
              "      <td>0.090909</td>\n",
              "      <td>0.478052</td>\n",
              "      <td>0.478052</td>\n",
              "      <td>0.463492</td>\n",
              "      <td>0.462857</td>\n",
              "      <td>0.057924</td>\n",
              "      <td>0.028227</td>\n",
              "      <td>0.026138</td>\n",
              "      <td>0.003972</td>\n",
              "      <td>0.508826</td>\n",
              "      <td>0.462994</td>\n",
              "      <td>0.028598</td>\n",
              "      <td>2.500000</td>\n",
              "    </tr>\n",
              "    <tr>\n",
              "      <th>75%</th>\n",
              "      <td>0.669901</td>\n",
              "      <td>0.938896</td>\n",
              "      <td>0.209592</td>\n",
              "      <td>0.715447</td>\n",
              "      <td>0.031614</td>\n",
              "      <td>0.523621</td>\n",
              "      <td>0.752532</td>\n",
              "      <td>0.990260</td>\n",
              "      <td>0.661587</td>\n",
              "      <td>0.590510</td>\n",
              "      <td>0.114676</td>\n",
              "      <td>0.162458</td>\n",
              "      <td>0.676154</td>\n",
              "      <td>0.676154</td>\n",
              "      <td>0.668571</td>\n",
              "      <td>0.673651</td>\n",
              "      <td>0.112127</td>\n",
              "      <td>0.056314</td>\n",
              "      <td>0.057580</td>\n",
              "      <td>0.010660</td>\n",
              "      <td>0.710310</td>\n",
              "      <td>0.658128</td>\n",
              "      <td>0.058514</td>\n",
              "      <td>3.250000</td>\n",
              "    </tr>\n",
              "    <tr>\n",
              "      <th>max</th>\n",
              "      <td>1.000000</td>\n",
              "      <td>1.000000</td>\n",
              "      <td>1.000000</td>\n",
              "      <td>1.000000</td>\n",
              "      <td>1.000000</td>\n",
              "      <td>1.000000</td>\n",
              "      <td>1.000000</td>\n",
              "      <td>1.000000</td>\n",
              "      <td>1.000000</td>\n",
              "      <td>1.000000</td>\n",
              "      <td>1.000000</td>\n",
              "      <td>1.000000</td>\n",
              "      <td>1.000000</td>\n",
              "      <td>1.000000</td>\n",
              "      <td>1.000000</td>\n",
              "      <td>1.000000</td>\n",
              "      <td>1.000000</td>\n",
              "      <td>1.000000</td>\n",
              "      <td>1.000000</td>\n",
              "      <td>1.000000</td>\n",
              "      <td>1.000000</td>\n",
              "      <td>1.000000</td>\n",
              "      <td>1.000000</td>\n",
              "      <td>4.000000</td>\n",
              "    </tr>\n",
              "  </tbody>\n",
              "</table>\n",
              "</div>"
            ],
            "text/plain": [
              "           Solidity  Eccentricity  ...          Area  microorganism\n",
              "count  13824.000000  13824.000000  ...  13824.000000   13824.000000\n",
              "mean       0.483543      0.816668  ...      0.048216       2.500000\n",
              "std        0.209131      0.168313  ...      0.065958       1.118074\n",
              "min        0.000000      0.000000  ...      0.000000       1.000000\n",
              "25%        0.298202      0.719613  ...      0.015655       1.750000\n",
              "50%        0.466642      0.869592  ...      0.028598       2.500000\n",
              "75%        0.669901      0.938896  ...      0.058514       3.250000\n",
              "max        1.000000      1.000000  ...      1.000000       4.000000\n",
              "\n",
              "[8 rows x 24 columns]"
            ]
          },
          "metadata": {
            "tags": []
          },
          "execution_count": 15
        }
      ]
    },
    {
      "cell_type": "code",
      "metadata": {
        "colab": {
          "base_uri": "https://localhost:8080/"
        },
        "id": "98_5As1hciA-",
        "outputId": "2f96ee51-82dd-4284-f610-2b9d021a50b3"
      },
      "source": [
        "df['microorganism'].value_counts()"
      ],
      "execution_count": null,
      "outputs": [
        {
          "output_type": "execute_result",
          "data": {
            "text/plain": [
              "4    3456\n",
              "3    3456\n",
              "2    3456\n",
              "1    3456\n",
              "Name: microorganism, dtype: int64"
            ]
          },
          "metadata": {
            "tags": []
          },
          "execution_count": 16
        }
      ]
    },
    {
      "cell_type": "code",
      "metadata": {
        "id": "qWbxoqj8crfg"
      },
      "source": [
        "x = df.drop(['microorganism'],axis=1)\n",
        "y = df['microorganism']"
      ],
      "execution_count": null,
      "outputs": []
    },
    {
      "cell_type": "code",
      "metadata": {
        "colab": {
          "base_uri": "https://localhost:8080/",
          "height": 1000
        },
        "id": "nQZMyPApc8hf",
        "outputId": "c7a55144-050d-446f-bdf2-edc354004fca"
      },
      "source": [
        "import seaborn as sns\n",
        "import matplotlib.pyplot as plt\n",
        "corr = x.corr()\n",
        "mask = np.triu(np.ones_like(corr, dtype=bool))\n",
        "\n",
        "# Set up the matplotlib figure\n",
        "f, ax = plt.subplots(figsize=(20, 20))\n",
        "\n",
        "# # Generate a custom diverging colormap\n",
        "# cmap = sns.diverging_palette(230, 20, as_cmap=True)\n",
        "\n",
        "# Draw the heatmap with the mask and correct aspect ratio\n",
        "sns.heatmap(corr, mask=mask,annot=True)"
      ],
      "execution_count": null,
      "outputs": [
        {
          "output_type": "execute_result",
          "data": {
            "text/plain": [
              "<matplotlib.axes._subplots.AxesSubplot at 0x7f2dd114f0f0>"
            ]
          },
          "metadata": {
            "tags": []
          },
          "execution_count": 18
        },
        {
          "output_type": "display_data",
          "data": {
            "image/png": "[encoded data removed]",
            "text/plain": [
              "<Figure size 1440x1440 with 2 Axes>"
            ]
          },
          "metadata": {
            "tags": [],
            "needs_background": "light"
          }
        }
      ]
    },
    {
      "cell_type": "code",
      "metadata": {
        "id": "LV6FBeUUOzBX"
      },
      "source": [
        "# from sklearn.datasets import make_classification\n",
        "# from sklearn.feature_selection import SelectKBest\n",
        "# from sklearn.feature_selection import f_classif\n",
        "# # generate dataset\n",
        "# # X, y = make_classification(n_samples=100, n_features=30, n_informative=2)\n",
        "# # define feature selection\n",
        "# fs = SelectKBest(score_func=f_classif, k=21)\n",
        "# # apply feature selection\n",
        "# X_selected = fs.fit_transform(x, y)\n",
        "# print(X_selected.shape)"
      ],
      "execution_count": null,
      "outputs": []
    },
    {
      "cell_type": "code",
      "metadata": {
        "colab": {
          "base_uri": "https://localhost:8080/"
        },
        "id": "lvaxh84lPJIs",
        "outputId": "31ce260e-1a79-4d25-9c45-43d5659a97b4"
      },
      "source": [
        ""
      ],
      "execution_count": null,
      "outputs": [
        {
          "output_type": "execute_result",
          "data": {
            "text/plain": [
              "array([1, 2, 2, ..., 3, 4, 1])"
            ]
          },
          "metadata": {
            "tags": []
          },
          "execution_count": 22
        }
      ]
    },
    {
      "cell_type": "code",
      "metadata": {
        "id": "YO-DxWdcc_2L"
      },
      "source": [
        "# columns = np.full((corr.shape[0],), True, dtype=bool)\n",
        "# for i in range(corr.shape[0]):\n",
        "#     for j in range(i+1, corr.shape[0]):\n",
        "#         if corr.iloc[i,j] >= 0.99:\n",
        "#             if columns[j]:\n",
        "#                 columns[j] = False\n",
        "# selected_columns = corr.columns[columns]\n",
        "# data = df[selected_columns]"
      ],
      "execution_count": null,
      "outputs": []
    },
    {
      "cell_type": "code",
      "metadata": {
        "id": "XwXvUr6zea6r"
      },
      "source": [
        "# X_selected"
      ],
      "execution_count": null,
      "outputs": []
    },
    {
      "cell_type": "code",
      "metadata": {
        "id": "sTVFYeEqek14"
      },
      "source": [
        "from sklearn.model_selection import train_test_split\n",
        "from sklearn.svm import SVC\n",
        "from sklearn.metrics import confusion_matrix\n",
        "x_train, x_test, y_train, y_test = train_test_split(x.values, y.values, test_size = 0.25)"
      ],
      "execution_count": null,
      "outputs": []
    },
    {
      "cell_type": "code",
      "metadata": {
        "colab": {
          "base_uri": "https://localhost:8080/"
        },
        "id": "mzXX1L-yPbhu",
        "outputId": "bdb50ba6-eb43-48fc-9e91-fe5a7f125c2c"
      },
      "source": [
        "x_train"
      ],
      "execution_count": null,
      "outputs": [
        {
          "output_type": "execute_result",
          "data": {
            "text/plain": [
              "array([[2.56896861e-01, 9.74831763e-01, 1.24439510e-01, ...,\n",
              "        2.63690897e-01, 4.02555658e-01, 2.47899290e-02],\n",
              "       [6.23753498e-01, 4.35788572e-01, 7.35724800e-03, ...,\n",
              "        4.14840026e-01, 3.87387097e-01, 6.77811000e-04],\n",
              "       [1.65342822e-01, 9.53101676e-01, 1.90408983e-01, ...,\n",
              "        6.33628391e-01, 4.55896729e-01, 4.94203720e-02],\n",
              "       ...,\n",
              "       [3.05047081e-01, 9.91361801e-01, 2.12984239e-01, ...,\n",
              "        9.20627187e-01, 2.80591903e-01, 5.96772430e-02],\n",
              "       [4.65382474e-01, 6.55977546e-01, 3.69259540e-02, ...,\n",
              "        5.37230369e-01, 1.85147699e-01, 6.79074700e-03],\n",
              "       [2.47472685e-01, 9.38896366e-01, 2.90513723e-01, ...,\n",
              "        5.07411748e-01, 4.28439307e-01, 1.02000538e-01]])"
            ]
          },
          "metadata": {
            "tags": []
          },
          "execution_count": 100
        }
      ]
    },
    {
      "cell_type": "code",
      "metadata": {
        "colab": {
          "base_uri": "https://localhost:8080/"
        },
        "id": "lIGkPv4fe7l1",
        "outputId": "f4ea5755-3817-43ae-c206-ad3526a30d29"
      },
      "source": [
        "from sklearn.model_selection import GridSearchCV \n",
        "  \n",
        "# defining parameter range \n",
        "param_grid = {'C': [900,950,1000],  \n",
        "              'gamma': [1,0.98,0.95]\n",
        "              }  \n",
        "  \n",
        "grid = GridSearchCV(SVC(), param_grid, refit = True, verbose = 3) \n",
        "  \n",
        "# fitting the model for grid search \n",
        "grid.fit(x_train, y_train) "
      ],
      "execution_count": null,
      "outputs": [
        {
          "output_type": "stream",
          "text": [
            "Fitting 5 folds for each of 9 candidates, totalling 45 fits\n",
            "[CV] C=900, gamma=1 ..................................................\n"
          ],
          "name": "stdout"
        },
        {
          "output_type": "stream",
          "text": [
            "[Parallel(n_jobs=1)]: Using backend SequentialBackend with 1 concurrent workers.\n"
          ],
          "name": "stderr"
        },
        {
          "output_type": "stream",
          "text": [
            "[CV] ...................... C=900, gamma=1, score=0.989, total=   2.8s\n",
            "[CV] C=900, gamma=1 ..................................................\n"
          ],
          "name": "stdout"
        },
        {
          "output_type": "stream",
          "text": [
            "[Parallel(n_jobs=1)]: Done   1 out of   1 | elapsed:    2.8s remaining:    0.0s\n"
          ],
          "name": "stderr"
        },
        {
          "output_type": "stream",
          "text": [
            "[CV] ...................... C=900, gamma=1, score=0.992, total=   2.9s\n",
            "[CV] C=900, gamma=1 ..................................................\n"
          ],
          "name": "stdout"
        },
        {
          "output_type": "stream",
          "text": [
            "[Parallel(n_jobs=1)]: Done   2 out of   2 | elapsed:    5.7s remaining:    0.0s\n"
          ],
          "name": "stderr"
        },
        {
          "output_type": "stream",
          "text": [
            "[CV] ...................... C=900, gamma=1, score=0.993, total=   2.7s\n",
            "[CV] C=900, gamma=1 ..................................................\n",
            "[CV] ...................... C=900, gamma=1, score=0.987, total=   2.9s\n",
            "[CV] C=900, gamma=1 ..................................................\n",
            "[CV] ...................... C=900, gamma=1, score=0.994, total=   3.0s\n",
            "[CV] C=900, gamma=0.98 ...............................................\n",
            "[CV] ................... C=900, gamma=0.98, score=0.989, total=   2.8s\n",
            "[CV] C=900, gamma=0.98 ...............................................\n",
            "[CV] ................... C=900, gamma=0.98, score=0.992, total=   2.9s\n",
            "[CV] C=900, gamma=0.98 ...............................................\n",
            "[CV] ................... C=900, gamma=0.98, score=0.993, total=   2.9s\n",
            "[CV] C=900, gamma=0.98 ...............................................\n",
            "[CV] ................... C=900, gamma=0.98, score=0.987, total=   2.9s\n",
            "[CV] C=900, gamma=0.98 ...............................................\n",
            "[CV] ................... C=900, gamma=0.98, score=0.993, total=   2.9s\n",
            "[CV] C=900, gamma=0.95 ...............................................\n",
            "[CV] ................... C=900, gamma=0.95, score=0.989, total=   2.9s\n",
            "[CV] C=900, gamma=0.95 ...............................................\n",
            "[CV] ................... C=900, gamma=0.95, score=0.991, total=   3.1s\n",
            "[CV] C=900, gamma=0.95 ...............................................\n",
            "[CV] ................... C=900, gamma=0.95, score=0.992, total=   3.0s\n",
            "[CV] C=900, gamma=0.95 ...............................................\n",
            "[CV] ................... C=900, gamma=0.95, score=0.987, total=   3.0s\n",
            "[CV] C=900, gamma=0.95 ...............................................\n",
            "[CV] ................... C=900, gamma=0.95, score=0.993, total=   2.9s\n",
            "[CV] C=950, gamma=1 ..................................................\n",
            "[CV] ...................... C=950, gamma=1, score=0.989, total=   2.8s\n",
            "[CV] C=950, gamma=1 ..................................................\n",
            "[CV] ...................... C=950, gamma=1, score=0.992, total=   2.9s\n",
            "[CV] C=950, gamma=1 ..................................................\n",
            "[CV] ...................... C=950, gamma=1, score=0.993, total=   2.8s\n",
            "[CV] C=950, gamma=1 ..................................................\n",
            "[CV] ...................... C=950, gamma=1, score=0.987, total=   3.0s\n",
            "[CV] C=950, gamma=1 ..................................................\n",
            "[CV] ...................... C=950, gamma=1, score=0.994, total=   3.0s\n",
            "[CV] C=950, gamma=0.98 ...............................................\n",
            "[CV] ................... C=950, gamma=0.98, score=0.989, total=   2.8s\n",
            "[CV] C=950, gamma=0.98 ...............................................\n",
            "[CV] ................... C=950, gamma=0.98, score=0.992, total=   2.9s\n",
            "[CV] C=950, gamma=0.98 ...............................................\n",
            "[CV] ................... C=950, gamma=0.98, score=0.993, total=   2.9s\n",
            "[CV] C=950, gamma=0.98 ...............................................\n",
            "[CV] ................... C=950, gamma=0.98, score=0.987, total=   2.9s\n",
            "[CV] C=950, gamma=0.98 ...............................................\n",
            "[CV] ................... C=950, gamma=0.98, score=0.993, total=   3.0s\n",
            "[CV] C=950, gamma=0.95 ...............................................\n",
            "[CV] ................... C=950, gamma=0.95, score=0.989, total=   3.0s\n",
            "[CV] C=950, gamma=0.95 ...............................................\n",
            "[CV] ................... C=950, gamma=0.95, score=0.991, total=   3.0s\n",
            "[CV] C=950, gamma=0.95 ...............................................\n",
            "[CV] ................... C=950, gamma=0.95, score=0.993, total=   2.9s\n",
            "[CV] C=950, gamma=0.95 ...............................................\n",
            "[CV] ................... C=950, gamma=0.95, score=0.987, total=   3.1s\n",
            "[CV] C=950, gamma=0.95 ...............................................\n",
            "[CV] ................... C=950, gamma=0.95, score=0.992, total=   3.0s\n",
            "[CV] C=1000, gamma=1 .................................................\n",
            "[CV] ..................... C=1000, gamma=1, score=0.989, total=   2.8s\n",
            "[CV] C=1000, gamma=1 .................................................\n",
            "[CV] ..................... C=1000, gamma=1, score=0.993, total=   2.9s\n",
            "[CV] C=1000, gamma=1 .................................................\n",
            "[CV] ..................... C=1000, gamma=1, score=0.993, total=   2.8s\n",
            "[CV] C=1000, gamma=1 .................................................\n",
            "[CV] ..................... C=1000, gamma=1, score=0.987, total=   3.1s\n",
            "[CV] C=1000, gamma=1 .................................................\n",
            "[CV] ..................... C=1000, gamma=1, score=0.994, total=   3.0s\n",
            "[CV] C=1000, gamma=0.98 ..............................................\n",
            "[CV] .................. C=1000, gamma=0.98, score=0.989, total=   2.9s\n",
            "[CV] C=1000, gamma=0.98 ..............................................\n",
            "[CV] .................. C=1000, gamma=0.98, score=0.992, total=   2.9s\n",
            "[CV] C=1000, gamma=0.98 ..............................................\n",
            "[CV] .................. C=1000, gamma=0.98, score=0.993, total=   2.9s\n",
            "[CV] C=1000, gamma=0.98 ..............................................\n",
            "[CV] .................. C=1000, gamma=0.98, score=0.987, total=   3.1s\n",
            "[CV] C=1000, gamma=0.98 ..............................................\n",
            "[CV] .................. C=1000, gamma=0.98, score=0.994, total=   3.0s\n",
            "[CV] C=1000, gamma=0.95 ..............................................\n",
            "[CV] .................. C=1000, gamma=0.95, score=0.989, total=   2.9s\n",
            "[CV] C=1000, gamma=0.95 ..............................................\n",
            "[CV] .................. C=1000, gamma=0.95, score=0.991, total=   3.0s\n",
            "[CV] C=1000, gamma=0.95 ..............................................\n",
            "[CV] .................. C=1000, gamma=0.95, score=0.993, total=   2.9s\n",
            "[CV] C=1000, gamma=0.95 ..............................................\n",
            "[CV] .................. C=1000, gamma=0.95, score=0.987, total=   3.1s\n",
            "[CV] C=1000, gamma=0.95 ..............................................\n",
            "[CV] .................. C=1000, gamma=0.95, score=0.992, total=   3.0s\n"
          ],
          "name": "stdout"
        },
        {
          "output_type": "stream",
          "text": [
            "[Parallel(n_jobs=1)]: Done  45 out of  45 | elapsed:  2.2min finished\n"
          ],
          "name": "stderr"
        },
        {
          "output_type": "execute_result",
          "data": {
            "text/plain": [
              "GridSearchCV(cv=None, error_score=nan,\n",
              "             estimator=SVC(C=1.0, break_ties=False, cache_size=200,\n",
              "                           class_weight=None, coef0=0.0,\n",
              "                           decision_function_shape='ovr', degree=3,\n",
              "                           gamma='scale', kernel='rbf', max_iter=-1,\n",
              "                           probability=False, random_state=None, shrinking=True,\n",
              "                           tol=0.001, verbose=False),\n",
              "             iid='deprecated', n_jobs=None,\n",
              "             param_grid={'C': [900, 950, 1000], 'gamma': [1, 0.98, 0.95]},\n",
              "             pre_dispatch='2*n_jobs', refit=True, return_train_score=False,\n",
              "             scoring=None, verbose=3)"
            ]
          },
          "metadata": {
            "tags": []
          },
          "execution_count": 112
        }
      ]
    },
    {
      "cell_type": "code",
      "metadata": {
        "colab": {
          "base_uri": "https://localhost:8080/"
        },
        "id": "zt7Ki5ZNR7V9",
        "outputId": "6ca40b2d-6ad6-44ca-f482-2598ff88e74c"
      },
      "source": [
        "grid.best_estimator_"
      ],
      "execution_count": null,
      "outputs": [
        {
          "output_type": "execute_result",
          "data": {
            "text/plain": [
              "SVC(C=1000, break_ties=False, cache_size=200, class_weight=None, coef0=0.0,\n",
              "    decision_function_shape='ovr', degree=3, gamma=1, kernel='rbf', max_iter=-1,\n",
              "    probability=False, random_state=None, shrinking=True, tol=0.001,\n",
              "    verbose=False)"
            ]
          },
          "metadata": {
            "tags": []
          },
          "execution_count": 113
        }
      ]
    },
    {
      "cell_type": "code",
      "metadata": {
        "id": "Q4-BOvab-qJ6"
      },
      "source": [
        "svc =SVC(C=1000, break_ties=False, cache_size=200, class_weight=None, coef0=0.0,\n",
        "    decision_function_shape='ovr', degree=2, gamma=1, kernel='rbf', max_iter=-1,\n",
        "    probability=False, random_state=None, shrinking=True, tol=0.001,\n",
        "    verbose=False)"
      ],
      "execution_count": null,
      "outputs": []
    },
    {
      "cell_type": "code",
      "metadata": {
        "colab": {
          "base_uri": "https://localhost:8080/"
        },
        "id": "3VLK_fvm_CYi",
        "outputId": "6ea1ddbc-b4f7-4a01-999f-3f7137c0bcd9"
      },
      "source": [
        "svc.fit(x_train,y_train)"
      ],
      "execution_count": null,
      "outputs": [
        {
          "output_type": "execute_result",
          "data": {
            "text/plain": [
              "SVC(C=1000, break_ties=False, cache_size=200, class_weight=None, coef0=0.0,\n",
              "    decision_function_shape='ovr', degree=2, gamma=1, kernel='rbf', max_iter=-1,\n",
              "    probability=False, random_state=None, shrinking=True, tol=0.001,\n",
              "    verbose=False)"
            ]
          },
          "metadata": {
            "tags": []
          },
          "execution_count": 114
        }
      ]
    },
    {
      "cell_type": "code",
      "metadata": {
        "colab": {
          "base_uri": "https://localhost:8080/",
          "height": 300
        },
        "id": "i-NtYNn2e_jz",
        "outputId": "5a564f41-3588-4bae-cd81-371a7803bf46"
      },
      "source": [
        "prediction = svc.predict(x_test)\n",
        "cm = confusion_matrix(y_test, prediction)\n",
        "sum = 0\n",
        "for i in range(cm.shape[0]):\n",
        "    sum += cm[i][i]\n",
        "    \n",
        "accuracy = sum/x_test.shape[0]                \n",
        "print(accuracy)\n",
        "sns.heatmap(cm,annot=True)"
      ],
      "execution_count": null,
      "outputs": [
        {
          "output_type": "stream",
          "text": [
            "0.9890046296296297\n"
          ],
          "name": "stdout"
        },
        {
          "output_type": "execute_result",
          "data": {
            "text/plain": [
              "<matplotlib.axes._subplots.AxesSubplot at 0x7f2d9520ecc0>"
            ]
          },
          "metadata": {
            "tags": []
          },
          "execution_count": 115
        },
        {
          "output_type": "display_data",
          "data": {
            "image/png": "[encoded data removed]",
            "text/plain": [
              "<Figure size 432x288 with 2 Axes>"
            ]
          },
          "metadata": {
            "tags": [],
            "needs_background": "light"
          }
        }
      ]
    },
    {
      "cell_type": "code",
      "metadata": {
        "colab": {
          "base_uri": "https://localhost:8080/"
        },
        "id": "o3QccimofHm6",
        "outputId": "2c8d8ced-14ff-404f-d749-18154f486334"
      },
      "source": [
        "from sklearn.metrics import f1_score\n",
        "print('F1 Score is: ', f1_score(y_test, prediction, average = 'weighted'))"
      ],
      "execution_count": null,
      "outputs": [
        {
          "output_type": "stream",
          "text": [
            "F1 Score is:  0.9889850484423177\n"
          ],
          "name": "stdout"
        }
      ]
    },
    {
      "cell_type": "code",
      "metadata": {
        "colab": {
          "base_uri": "https://localhost:8080/",
          "height": 17
        },
        "id": "8uMMAPLoffst",
        "outputId": "f3ee1678-cee7-42ed-d414-90ee17ce81ea"
      },
      "source": [
        "test_data = pd.read_csv('https://raw.githubusercontent.com/dphi-official/Datasets/master/sukhna_dhanas/test_set_label.csv')\n",
        "# test_data = test_data[selected_columns]\n",
        "# test_data = fs.transform(test_data)\n",
        "target = svc.predict(test_data)\n",
        "res = pd.DataFrame(target) #target is nothing but the final predictions of your model on input features of your new unseen test data\n",
        "# res.index = test_data.index # its important for comparison. Here \"test_new\" is your new test dataset\n",
        "res.columns = [\"prediction\"]\n",
        "res.to_csv(\"submission.csv\") # the csv file will be saved locally on the same location where this notebook is located.\n",
        "from google.colab import files\n",
        "res.to_csv('submission.csv',index=False)\n",
        "files.download('submission.csv')"
      ],
      "execution_count": null,
      "outputs": [
        {
          "output_type": "display_data",
          "data": {
            "application/javascript": [
              "\n",
              "    async function download(id, filename, size) {\n",
              "      if (!google.colab.kernel.accessAllowed) {\n",
              "        return;\n",
              "      }\n",
              "      const div = document.createElement('div');\n",
              "      const label = document.createElement('label');\n",
              "      label.textContent = `Downloading \"${filename}\": `;\n",
              "      div.appendChild(label);\n",
              "      const progress = document.createElement('progress');\n",
              "      progress.max = size;\n",
              "      div.appendChild(progress);\n",
              "      document.body.appendChild(div);\n",
              "\n",
              "      const buffers = [];\n",
              "      let downloaded = 0;\n",
              "\n",
              "      const channel = await google.colab.kernel.comms.open(id);\n",
              "      // Send a message to notify the kernel that we're ready.\n",
              "      channel.send({})\n",
              "\n",
              "      for await (const message of channel.messages) {\n",
              "        // Send a message to notify the kernel that we're ready.\n",
              "        channel.send({})\n",
              "        if (message.buffers) {\n",
              "          for (const buffer of message.buffers) {\n",
              "            buffers.push(buffer);\n",
              "            downloaded += buffer.byteLength;\n",
              "            progress.value = downloaded;\n",
              "          }\n",
              "        }\n",
              "      }\n",
              "      const blob = new Blob(buffers, {type: 'application/binary'});\n",
              "      const a = document.createElement('a');\n",
              "      a.href = window.URL.createObjectURL(blob);\n",
              "      a.download = filename;\n",
              "      div.appendChild(a);\n",
              "      a.click();\n",
              "      div.remove();\n",
              "    }\n",
              "  "
            ],
            "text/plain": [
              "<IPython.core.display.Javascript object>"
            ]
          },
          "metadata": {
            "tags": []
          }
        },
        {
          "output_type": "display_data",
          "data": {
            "application/javascript": [
              "download(\"download_ffec1208-6e49-4707-b4b2-8cdd8ad7fa83\", \"submission.csv\", 6923)"
            ],
            "text/plain": [
              "<IPython.core.display.Javascript object>"
            ]
          },
          "metadata": {
            "tags": []
          }
        }
      ]
    },
    {
      "cell_type": "code",
      "metadata": {
        "colab": {
          "base_uri": "https://localhost:8080/"
        },
        "id": "rUyO3swGgXEa",
        "outputId": "ec2029c6-5849-4997-8f81-766babdbc8d4"
      },
      "source": [
        "pip install xgboost"
      ],
      "execution_count": null,
      "outputs": [
        {
          "output_type": "stream",
          "text": [
            "Requirement already satisfied: xgboost in /usr/local/lib/python3.6/dist-packages (0.90)\n",
            "Requirement already satisfied: numpy in /usr/local/lib/python3.6/dist-packages (from xgboost) (1.19.4)\n",
            "Requirement already satisfied: scipy in /usr/local/lib/python3.6/dist-packages (from xgboost) (1.4.1)\n"
          ],
          "name": "stdout"
        }
      ]
    },
    {
      "cell_type": "code",
      "metadata": {
        "id": "L9WsTJhGhZvL"
      },
      "source": [
        ""
      ],
      "execution_count": null,
      "outputs": []
    },
    {
      "cell_type": "code",
      "metadata": {
        "id": "T33CxR67rbOj"
      },
      "source": [
        "params={\n",
        " \"learning_rate\"    : [0.05, 0.10, 0.15, 0.20, 0.25, 0.30 ] ,\n",
        " \"max_depth\"        : [ 3, 4, 5, 6, 8, 10, 12, 15],\n",
        " \"min_child_weight\" : [ 1, 3, 5, 7 ],\n",
        " \"gamma\"            : [ 0.0, 0.1, 0.2 , 0.3, 0.4 ],\n",
        " \"colsample_bytree\" : [ 0.3, 0.4, 0.5 , 0.7 ],\n",
        " \"n_estimators\" : [100,500,1000]     \n",
        "}"
      ],
      "execution_count": null,
      "outputs": []
    },
    {
      "cell_type": "code",
      "metadata": {
        "id": "8y77YjTQlRgU"
      },
      "source": [
        "import time\n",
        "from xgboost import XGBClassifier\n",
        "# create a default XGBoost classifier\n",
        "xgb = XGBClassifier(tree_method = 'gpu_hist')"
      ],
      "execution_count": null,
      "outputs": []
    },
    {
      "cell_type": "code",
      "metadata": {
        "id": "sXhaTgVehilT"
      },
      "source": [
        "from sklearn.metrics import f1_score, make_scorer\n",
        "f1 = make_scorer(f1_score , average='weighted')"
      ],
      "execution_count": null,
      "outputs": []
    },
    {
      "cell_type": "code",
      "metadata": {
        "id": "JoxWtLk4syAz"
      },
      "source": [
        "from sklearn.model_selection import RandomizedSearchCV\n",
        "random_search=RandomizedSearchCV(xgb,param_distributions=params,n_iter=10,scoring=f1,n_jobs=-1,cv=10,verbose=3)"
      ],
      "execution_count": null,
      "outputs": []
    },
    {
      "cell_type": "code",
      "metadata": {
        "colab": {
          "base_uri": "https://localhost:8080/"
        },
        "id": "uIsHfSkNn0qf",
        "outputId": "5f5633f6-518b-4f10-b0d8-1db6baeb8ad8"
      },
      "source": [
        "xgb"
      ],
      "execution_count": null,
      "outputs": [
        {
          "output_type": "execute_result",
          "data": {
            "text/plain": [
              "XGBClassifier(base_score=0.5, booster='gbtree', colsample_bylevel=1,\n",
              "              colsample_bynode=1, colsample_bytree=1, gamma=0,\n",
              "              learning_rate=0.1, max_delta_step=0, max_depth=3,\n",
              "              min_child_weight=1, missing=None, n_estimators=100, n_jobs=1,\n",
              "              nthread=None, objective='binary:logistic', random_state=0,\n",
              "              reg_alpha=0, reg_lambda=1, scale_pos_weight=1, seed=None,\n",
              "              silent=None, subsample=1, tree_method='gpu_hist', verbosity=1)"
            ]
          },
          "metadata": {
            "tags": []
          },
          "execution_count": 78
        }
      ]
    },
    {
      "cell_type": "code",
      "metadata": {
        "id": "8wE59yeztUmc"
      },
      "source": [
        "def timer(start_time=None):\n",
        "    if not start_time:\n",
        "        start_time = datetime.now()\n",
        "        return start_time\n",
        "    elif start_time:\n",
        "        thour, temp_sec = divmod((datetime.now() - start_time).total_seconds(), 3600)\n",
        "        tmin, tsec = divmod(temp_sec, 60)\n",
        "        print('\\n Time taken: %i hours %i minutes and %s seconds.' % (thour, tmin, round(tsec, 2)))\n",
        "        "
      ],
      "execution_count": null,
      "outputs": []
    },
    {
      "cell_type": "code",
      "metadata": {
        "colab": {
          "base_uri": "https://localhost:8080/"
        },
        "id": "ULB6C4Ndhsfz",
        "outputId": "41d8b8bf-00d8-4358-93f2-b98de882f566"
      },
      "source": [
        "from datetime import datetime\n",
        "# Here we go\n",
        "start_time = timer(None) # timing starts from this point for \"start_time\" variable\n",
        "random_search.fit(data.values,y.values)\n",
        "timer(start_time)"
      ],
      "execution_count": null,
      "outputs": [
        {
          "output_type": "stream",
          "text": [
            "Fitting 10 folds for each of 10 candidates, totalling 100 fits\n"
          ],
          "name": "stdout"
        },
        {
          "output_type": "stream",
          "text": [
            "[Parallel(n_jobs=-1)]: Using backend LokyBackend with 2 concurrent workers.\n",
            "[Parallel(n_jobs=-1)]: Done  28 tasks      | elapsed:  4.5min\n",
            "[Parallel(n_jobs=-1)]: Done 100 out of 100 | elapsed: 22.7min finished\n"
          ],
          "name": "stderr"
        },
        {
          "output_type": "stream",
          "text": [
            "\n",
            " Time taken: 0 hours 23 minutes and 1.71 seconds.\n"
          ],
          "name": "stdout"
        }
      ]
    },
    {
      "cell_type": "code",
      "metadata": {
        "colab": {
          "base_uri": "https://localhost:8080/"
        },
        "id": "XWUwaWv1hszd",
        "outputId": "a1944f99-9660-46d1-9420-defd28372d6e"
      },
      "source": [
        "random_search.best_estimator_"
      ],
      "execution_count": null,
      "outputs": [
        {
          "output_type": "execute_result",
          "data": {
            "text/plain": [
              "XGBClassifier(base_score=0.5, booster='gbtree', colsample_bylevel=1,\n",
              "              colsample_bynode=1, colsample_bytree=0.7, gamma=0.0,\n",
              "              learning_rate=0.05, max_delta_step=0, max_depth=10,\n",
              "              min_child_weight=5, missing=None, n_estimators=1000, n_jobs=1,\n",
              "              nthread=None, objective='multi:softprob', random_state=0,\n",
              "              reg_alpha=0, reg_lambda=1, scale_pos_weight=1, seed=None,\n",
              "              silent=None, subsample=1, tree_method='gpu_hist', verbosity=1)"
            ]
          },
          "metadata": {
            "tags": []
          },
          "execution_count": 81
        }
      ]
    },
    {
      "cell_type": "code",
      "metadata": {
        "id": "h-XpK2DDim5_"
      },
      "source": [
        "# xgb_best = random_search.best_estimator_\n",
        "xgb_best = XGBClassifier(base_score=0.5, booster='gbtree', colsample_bylevel=1,\n",
        "              colsample_bynode=1, colsample_bytree=0.7, gamma=0.0,\n",
        "              learning_rate=0.05, max_delta_step=0, max_depth=10,\n",
        "              min_child_weight=5, missing=None, n_estimators=1000, n_jobs=1,\n",
        "              nthread=None, objective='multi:softprob', random_state=0,\n",
        "              reg_alpha=0, reg_lambda=1, scale_pos_weight=1, seed=None,\n",
        "              silent=None, subsample=1, tree_method='gpu_hist', verbosity=1)"
      ],
      "execution_count": null,
      "outputs": []
    },
    {
      "cell_type": "code",
      "metadata": {
        "colab": {
          "base_uri": "https://localhost:8080/"
        },
        "id": "yG-msOXZirIu",
        "outputId": "1376846c-18b8-46ad-d89b-5b4e029ea1ad"
      },
      "source": [
        "from sklearn.model_selection import cross_val_score\n",
        "score=cross_val_score(xgb_best,X_selected,y.values,scoring = f1,cv=10)\n",
        "print(score.mean())"
      ],
      "execution_count": null,
      "outputs": [
        {
          "output_type": "stream",
          "text": [
            "0.9938457190898818\n"
          ],
          "name": "stdout"
        }
      ]
    },
    {
      "cell_type": "code",
      "metadata": {
        "colab": {
          "base_uri": "https://localhost:8080/"
        },
        "id": "xjyYxFa8dpU5",
        "outputId": "63130a3d-65bd-41cb-ec96-9c88a305977b"
      },
      "source": [
        ""
      ],
      "execution_count": null,
      "outputs": [
        {
          "output_type": "stream",
          "text": [
            "2.8174723254402787\n",
            "2.8174723254402787\n"
          ],
          "name": "stdout"
        }
      ]
    },
    {
      "cell_type": "code",
      "metadata": {
        "colab": {
          "base_uri": "https://localhost:8080/",
          "height": 167
        },
        "id": "nonOsywPi39D",
        "outputId": "b192941c-51db-4fd2-aa91-cb2180537983"
      },
      "source": [
        "xgb_best.fit(x_train,y_train)"
      ],
      "execution_count": null,
      "outputs": [
        {
          "output_type": "error",
          "ename": "NameError",
          "evalue": "ignored",
          "traceback": [
            "\u001b[0;31m---------------------------------------------------------------------------\u001b[0m",
            "\u001b[0;31mNameError\u001b[0m                                 Traceback (most recent call last)",
            "\u001b[0;32m<ipython-input-4-b221d71e573e>\u001b[0m in \u001b[0;36m<module>\u001b[0;34m()\u001b[0m\n\u001b[0;32m----> 1\u001b[0;31m \u001b[0mxgb_best\u001b[0m\u001b[0;34m.\u001b[0m\u001b[0mfit\u001b[0m\u001b[0;34m(\u001b[0m\u001b[0mx_train\u001b[0m\u001b[0;34m,\u001b[0m\u001b[0my_train\u001b[0m\u001b[0;34m)\u001b[0m\u001b[0;34m\u001b[0m\u001b[0;34m\u001b[0m\u001b[0m\n\u001b[0m",
            "\u001b[0;31mNameError\u001b[0m: name 'xgb_best' is not defined"
          ]
        }
      ]
    },
    {
      "cell_type": "code",
      "metadata": {
        "colab": {
          "base_uri": "https://localhost:8080/",
          "height": 300
        },
        "id": "0RYUqRSgblmX",
        "outputId": "1182deba-b718-4b7b-9718-37f84f52cc52"
      },
      "source": [
        "prediction = xgb_best.predict(x_test)\n",
        "cm = confusion_matrix(y_test, prediction)\n",
        "sum = 0\n",
        "for i in range(cm.shape[0]):\n",
        "    sum += cm[i][i]\n",
        "    \n",
        "accuracy = sum/x_test.shape[0]                \n",
        "print(accuracy)\n",
        "sns.heatmap(cm,annot=True)"
      ],
      "execution_count": null,
      "outputs": [
        {
          "output_type": "stream",
          "text": [
            "0.9927662037037037\n"
          ],
          "name": "stdout"
        },
        {
          "output_type": "execute_result",
          "data": {
            "text/plain": [
              "<matplotlib.axes._subplots.AxesSubplot at 0x7f2d95345cf8>"
            ]
          },
          "metadata": {
            "tags": []
          },
          "execution_count": 119
        },
        {
          "output_type": "display_data",
          "data": {
            "image/png": "[encoded data removed]",
            "text/plain": [
              "<Figure size 432x288 with 2 Axes>"
            ]
          },
          "metadata": {
            "tags": [],
            "needs_background": "light"
          }
        }
      ]
    },
    {
      "cell_type": "code",
      "metadata": {
        "colab": {
          "base_uri": "https://localhost:8080/",
          "height": 17
        },
        "id": "HfTfRxC9jFZk",
        "outputId": "7d00cfb5-ebc4-4c0a-d7ff-2edceff65eae"
      },
      "source": [
        "test_data = pd.read_csv('https://raw.githubusercontent.com/dphi-official/Datasets/master/sukhna_dhanas/test_set_label.csv')\n",
        "# test_data = test_data[selected_columns]\n",
        "test_data = fs.transform(test_data)\n",
        "target = xgb_best.predict(test_data)\n",
        "res = pd.DataFrame(target) #target is nothing but the final predictions of your model on input features of your new unseen test data\n",
        "# res.index = test_data.index # its important for comparison. Here \"test_new\" is your new test dataset\n",
        "res.columns = [\"prediction\"]\n",
        "res.to_csv(\"submission.csv\") # the csv file will be saved locally on the same location where this notebook is located.\n",
        "from google.colab import files\n",
        "res.to_csv('submission.csv',index=False)\n",
        "files.download('submission.csv')"
      ],
      "execution_count": null,
      "outputs": [
        {
          "output_type": "display_data",
          "data": {
            "application/javascript": [
              "\n",
              "    async function download(id, filename, size) {\n",
              "      if (!google.colab.kernel.accessAllowed) {\n",
              "        return;\n",
              "      }\n",
              "      const div = document.createElement('div');\n",
              "      const label = document.createElement('label');\n",
              "      label.textContent = `Downloading \"${filename}\": `;\n",
              "      div.appendChild(label);\n",
              "      const progress = document.createElement('progress');\n",
              "      progress.max = size;\n",
              "      div.appendChild(progress);\n",
              "      document.body.appendChild(div);\n",
              "\n",
              "      const buffers = [];\n",
              "      let downloaded = 0;\n",
              "\n",
              "      const channel = await google.colab.kernel.comms.open(id);\n",
              "      // Send a message to notify the kernel that we're ready.\n",
              "      channel.send({})\n",
              "\n",
              "      for await (const message of channel.messages) {\n",
              "        // Send a message to notify the kernel that we're ready.\n",
              "        channel.send({})\n",
              "        if (message.buffers) {\n",
              "          for (const buffer of message.buffers) {\n",
              "            buffers.push(buffer);\n",
              "            downloaded += buffer.byteLength;\n",
              "            progress.value = downloaded;\n",
              "          }\n",
              "        }\n",
              "      }\n",
              "      const blob = new Blob(buffers, {type: 'application/binary'});\n",
              "      const a = document.createElement('a');\n",
              "      a.href = window.URL.createObjectURL(blob);\n",
              "      a.download = filename;\n",
              "      div.appendChild(a);\n",
              "      a.click();\n",
              "      div.remove();\n",
              "    }\n",
              "  "
            ],
            "text/plain": [
              "<IPython.core.display.Javascript object>"
            ]
          },
          "metadata": {
            "tags": []
          }
        },
        {
          "output_type": "display_data",
          "data": {
            "application/javascript": [
              "download(\"download_37990080-7721-4b3f-8ae3-2dbc4e9da2f6\", \"submission.csv\", 6923)"
            ],
            "text/plain": [
              "<IPython.core.display.Javascript object>"
            ]
          },
          "metadata": {
            "tags": []
          }
        }
      ]
    },
    {
      "cell_type": "code",
      "metadata": {
        "colab": {
          "base_uri": "https://localhost:8080/"
        },
        "id": "m-OQdySKjQlk",
        "outputId": "56dfc928-b172-4b8c-c4ef-56d33c743ef3"
      },
      "source": [
        "from sklearn.ensemble import RandomForestClassifier\n",
        "from sklearn.model_selection import GridSearchCV\n",
        "\n",
        "\n",
        "forest = RandomForestClassifier(random_state = 1, n_estimators = 10, min_samples_split = 1)\n",
        "\n",
        "n_estimators = [100]\n",
        "max_depth = [ 8, 15]\n",
        "min_samples_split = [5, 10, 15]\n",
        "min_samples_leaf = [1, 2, 5, 10] \n",
        "\n",
        "hyperF = dict(n_estimators = n_estimators, max_depth = max_depth,  \n",
        "              min_samples_split = min_samples_split, \n",
        "             min_samples_leaf = min_samples_leaf)\n",
        "\n",
        "gridF = GridSearchCV(forest, hyperF, cv = 3, verbose = 1, \n",
        "                      n_jobs = -1)\n",
        "bestF = gridF.fit(x_train, y_train)"
      ],
      "execution_count": null,
      "outputs": [
        {
          "output_type": "stream",
          "text": [
            "Fitting 3 folds for each of 24 candidates, totalling 72 fits\n"
          ],
          "name": "stdout"
        },
        {
          "output_type": "stream",
          "text": [
            "[Parallel(n_jobs=-1)]: Using backend LokyBackend with 2 concurrent workers.\n",
            "[Parallel(n_jobs=-1)]: Done  46 tasks      | elapsed:   36.6s\n",
            "[Parallel(n_jobs=-1)]: Done  72 out of  72 | elapsed:   59.1s finished\n"
          ],
          "name": "stderr"
        }
      ]
    },
    {
      "cell_type": "code",
      "metadata": {
        "colab": {
          "base_uri": "https://localhost:8080/"
        },
        "id": "oZR-KDOf7IRh",
        "outputId": "e8e007cb-ecd0-4931-8b4a-9d66d3993746"
      },
      "source": [
        "bestF.best_estimator_"
      ],
      "execution_count": null,
      "outputs": [
        {
          "output_type": "execute_result",
          "data": {
            "text/plain": [
              "RandomForestClassifier(bootstrap=True, ccp_alpha=0.0, class_weight=None,\n",
              "                       criterion='gini', max_depth=15, max_features='auto',\n",
              "                       max_leaf_nodes=None, max_samples=None,\n",
              "                       min_impurity_decrease=0.0, min_impurity_split=None,\n",
              "                       min_samples_leaf=1, min_samples_split=5,\n",
              "                       min_weight_fraction_leaf=0.0, n_estimators=100,\n",
              "                       n_jobs=None, oob_score=False, random_state=1, verbose=0,\n",
              "                       warm_start=False)"
            ]
          },
          "metadata": {
            "tags": []
          },
          "execution_count": 76
        }
      ]
    },
    {
      "cell_type": "code",
      "metadata": {
        "id": "MLgrxRLaWk4j"
      },
      "source": [
        "rf = RandomForestClassifier(bootstrap=True, ccp_alpha=0.0, class_weight=None,\n",
        "                       criterion='gini', max_depth=15, max_features='auto',\n",
        "                       max_leaf_nodes=None, max_samples=None,\n",
        "                       min_impurity_decrease=0.0, min_impurity_split=None,\n",
        "                       min_samples_leaf=1, min_samples_split=5,\n",
        "                       min_weight_fraction_leaf=0.0, n_estimators=100,\n",
        "                       n_jobs=None, oob_score=False, random_state=1, verbose=0,\n",
        "                       warm_start=False)"
      ],
      "execution_count": null,
      "outputs": []
    },
    {
      "cell_type": "code",
      "metadata": {
        "id": "dn1CQFeLW5Fm"
      },
      "source": [
        "x_train, x_test, y_train, y_test = train_test_split(x, y, test_size = 0.3)"
      ],
      "execution_count": null,
      "outputs": []
    },
    {
      "cell_type": "code",
      "metadata": {
        "colab": {
          "base_uri": "https://localhost:8080/"
        },
        "id": "oSn230a8Wm7U",
        "outputId": "07c5e62e-7c88-44bf-d885-d443a70d7f39"
      },
      "source": [
        "rf.fit(x_train,y_train)"
      ],
      "execution_count": null,
      "outputs": [
        {
          "output_type": "execute_result",
          "data": {
            "text/plain": [
              "RandomForestClassifier(bootstrap=True, ccp_alpha=0.0, class_weight=None,\n",
              "                       criterion='gini', max_depth=15, max_features='auto',\n",
              "                       max_leaf_nodes=None, max_samples=None,\n",
              "                       min_impurity_decrease=0.0, min_impurity_split=None,\n",
              "                       min_samples_leaf=1, min_samples_split=5,\n",
              "                       min_weight_fraction_leaf=0.0, n_estimators=100,\n",
              "                       n_jobs=None, oob_score=False, random_state=1, verbose=0,\n",
              "                       warm_start=False)"
            ]
          },
          "metadata": {
            "tags": []
          },
          "execution_count": 86
        }
      ]
    },
    {
      "cell_type": "code",
      "metadata": {
        "colab": {
          "base_uri": "https://localhost:8080/"
        },
        "id": "fHQRZ6noWr9V",
        "outputId": "0f2d46ba-994d-41c5-befe-0b4c11d62ce7"
      },
      "source": [
        "rf.feature_importances_"
      ],
      "execution_count": null,
      "outputs": [
        {
          "output_type": "execute_result",
          "data": {
            "text/plain": [
              "array([0.10842038, 0.0526925 , 0.07871719, 0.02221609, 0.06409705,\n",
              "       0.06982028, 0.02598957, 0.027985  , 0.01775955, 0.02307109,\n",
              "       0.04335   , 0.03708699, 0.01820146, 0.01944049, 0.01498577,\n",
              "       0.01596568, 0.06314005, 0.04810522, 0.07043215, 0.07239471,\n",
              "       0.01768771, 0.02365232, 0.06478876])"
            ]
          },
          "metadata": {
            "tags": []
          },
          "execution_count": 87
        }
      ]
    },
    {
      "cell_type": "code",
      "metadata": {
        "colab": {
          "base_uri": "https://localhost:8080/",
          "height": 281
        },
        "id": "leWe00fxXszx",
        "outputId": "55485840-8645-4fbe-888a-d671e3913da8"
      },
      "source": [
        "feat_importances = pd.Series(rf.feature_importances_, index=x.columns)\n",
        "feat_importances.nlargest(27).plot(kind='barh')\n",
        "plt.title(\"Top 15 important features\")\n",
        "plt.show()"
      ],
      "execution_count": null,
      "outputs": [
        {
          "output_type": "display_data",
          "data": {
            "image/png": "[encoded data removed]",
            "text/plain": [
              "<Figure size 432x288 with 1 Axes>"
            ]
          },
          "metadata": {
            "tags": [],
            "needs_background": "light"
          }
        }
      ]
    },
    {
      "cell_type": "code",
      "metadata": {
        "colab": {
          "base_uri": "https://localhost:8080/",
          "height": 300
        },
        "id": "ooabWhKVbzia",
        "outputId": "e282c65a-5c97-442b-f781-0849bb672d61"
      },
      "source": [
        "prediction = rf.predict(x_test)\n",
        "cm = confusion_matrix(y_test, prediction)\n",
        "sum = 0\n",
        "for i in range(cm.shape[0]):\n",
        "    sum += cm[i][i]\n",
        "    \n",
        "accuracy = sum/x_test.shape[0]                \n",
        "print(accuracy)\n",
        "sns.heatmap(cm,annot=True)"
      ],
      "execution_count": null,
      "outputs": [
        {
          "output_type": "stream",
          "text": [
            "0.9959490740740741\n"
          ],
          "name": "stdout"
        },
        {
          "output_type": "execute_result",
          "data": {
            "text/plain": [
              "<matplotlib.axes._subplots.AxesSubplot at 0x7f2d950d61d0>"
            ]
          },
          "metadata": {
            "tags": []
          },
          "execution_count": 120
        },
        {
          "output_type": "display_data",
          "data": {
            "image/png": "[encoded data removed]",
            "text/plain": [
              "<Figure size 432x288 with 2 Axes>"
            ]
          },
          "metadata": {
            "tags": [],
            "needs_background": "light"
          }
        }
      ]
    },
    {
      "cell_type": "code",
      "metadata": {
        "colab": {
          "base_uri": "https://localhost:8080/",
          "height": 17
        },
        "id": "S1sYIUap17ia",
        "outputId": "2ddd3fc6-4ae5-4cc4-abfd-cb40bbf4abd4"
      },
      "source": [
        "test_data = pd.read_csv('https://raw.githubusercontent.com/dphi-official/Datasets/master/sukhna_dhanas/test_set_label.csv')\n",
        "# test_data = test_data[selected_columns]\n",
        "target = rf.predict(test_data.values)\n",
        "res = pd.DataFrame(target) #target is nothing but the final predictions of your model on input features of your new unseen test data\n",
        "res.index = test_data.index # its important for comparison. Here \"test_new\" is your new test dataset\n",
        "res.columns = [\"prediction\"]\n",
        "res.to_csv(\"submission.csv\") # the csv file will be saved locally on the same location where this notebook is located.\n",
        "from google.colab import files\n",
        "res.to_csv('submission.csv',index=False)\n",
        "files.download('submission.csv')"
      ],
      "execution_count": null,
      "outputs": [
        {
          "output_type": "display_data",
          "data": {
            "application/javascript": [
              "\n",
              "    async function download(id, filename, size) {\n",
              "      if (!google.colab.kernel.accessAllowed) {\n",
              "        return;\n",
              "      }\n",
              "      const div = document.createElement('div');\n",
              "      const label = document.createElement('label');\n",
              "      label.textContent = `Downloading \"${filename}\": `;\n",
              "      div.appendChild(label);\n",
              "      const progress = document.createElement('progress');\n",
              "      progress.max = size;\n",
              "      div.appendChild(progress);\n",
              "      document.body.appendChild(div);\n",
              "\n",
              "      const buffers = [];\n",
              "      let downloaded = 0;\n",
              "\n",
              "      const channel = await google.colab.kernel.comms.open(id);\n",
              "      // Send a message to notify the kernel that we're ready.\n",
              "      channel.send({})\n",
              "\n",
              "      for await (const message of channel.messages) {\n",
              "        // Send a message to notify the kernel that we're ready.\n",
              "        channel.send({})\n",
              "        if (message.buffers) {\n",
              "          for (const buffer of message.buffers) {\n",
              "            buffers.push(buffer);\n",
              "            downloaded += buffer.byteLength;\n",
              "            progress.value = downloaded;\n",
              "          }\n",
              "        }\n",
              "      }\n",
              "      const blob = new Blob(buffers, {type: 'application/binary'});\n",
              "      const a = document.createElement('a');\n",
              "      a.href = window.URL.createObjectURL(blob);\n",
              "      a.download = filename;\n",
              "      div.appendChild(a);\n",
              "      a.click();\n",
              "      div.remove();\n",
              "    }\n",
              "  "
            ],
            "text/plain": [
              "<IPython.core.display.Javascript object>"
            ]
          },
          "metadata": {
            "tags": []
          }
        },
        {
          "output_type": "display_data",
          "data": {
            "application/javascript": [
              "download(\"download_481bbc29-f67c-4b36-a96d-c5606d318b93\", \"submission.csv\", 6923)"
            ],
            "text/plain": [
              "<IPython.core.display.Javascript object>"
            ]
          },
          "metadata": {
            "tags": []
          }
        }
      ]
    },
    {
      "cell_type": "code",
      "metadata": {
        "id": "kN3rI3du7QbE"
      },
      "source": [
        "from sklearn.ensemble import ExtraTreesClassifier\n",
        "model = ExtraTreesClassifier()\n",
        "                            \n",
        "gsc = GridSearchCV(\n",
        "    estimator=model,\n",
        "    param_grid={\n",
        "        'n_estimators': [400,500, 700,1000],\n",
        "        'max_depth': [8,10,15],\n",
        "        'min_samples_split':[2,5,10,20],\n",
        "        'bootstrap':[True,False]\n",
        "\n",
        "    },\n",
        "    # scoring=f1,\n",
        "    cv=3,\n",
        "    verbose = 3\n",
        ")"
      ],
      "execution_count": null,
      "outputs": []
    },
    {
      "cell_type": "code",
      "metadata": {
        "id": "y6AIsELwjaPg"
      },
      "source": [
        "x_train, x_test, y_train, y_test = train_test_split(x.values, y.values, test_size = 0.25)"
      ],
      "execution_count": null,
      "outputs": []
    },
    {
      "cell_type": "code",
      "metadata": {
        "colab": {
          "base_uri": "https://localhost:8080/"
        },
        "id": "f9WTSNvZiTwD",
        "outputId": "dab98ffb-13c2-482b-a2ea-31fc36a6399e"
      },
      "source": [
        "grid_result = gsc.fit(x_train, y_train)"
      ],
      "execution_count": null,
      "outputs": [
        {
          "output_type": "stream",
          "text": [
            "Fitting 3 folds for each of 96 candidates, totalling 288 fits\n",
            "[CV] bootstrap=True, max_depth=8, min_samples_split=2, n_estimators=400 \n"
          ],
          "name": "stdout"
        },
        {
          "output_type": "stream",
          "text": [
            "[Parallel(n_jobs=1)]: Using backend SequentialBackend with 1 concurrent workers.\n"
          ],
          "name": "stderr"
        },
        {
          "output_type": "stream",
          "text": [
            "[CV]  bootstrap=True, max_depth=8, min_samples_split=2, n_estimators=400, score=0.883, total=   1.3s\n",
            "[CV] bootstrap=True, max_depth=8, min_samples_split=2, n_estimators=400 \n"
          ],
          "name": "stdout"
        },
        {
          "output_type": "stream",
          "text": [
            "[Parallel(n_jobs=1)]: Done   1 out of   1 | elapsed:    1.3s remaining:    0.0s\n"
          ],
          "name": "stderr"
        },
        {
          "output_type": "stream",
          "text": [
            "[CV]  bootstrap=True, max_depth=8, min_samples_split=2, n_estimators=400, score=0.895, total=   1.2s\n",
            "[CV] bootstrap=True, max_depth=8, min_samples_split=2, n_estimators=400 \n"
          ],
          "name": "stdout"
        },
        {
          "output_type": "stream",
          "text": [
            "[Parallel(n_jobs=1)]: Done   2 out of   2 | elapsed:    2.5s remaining:    0.0s\n"
          ],
          "name": "stderr"
        },
        {
          "output_type": "stream",
          "text": [
            "[CV]  bootstrap=True, max_depth=8, min_samples_split=2, n_estimators=400, score=0.881, total=   1.2s\n",
            "[CV] bootstrap=True, max_depth=8, min_samples_split=2, n_estimators=500 \n",
            "[CV]  bootstrap=True, max_depth=8, min_samples_split=2, n_estimators=500, score=0.880, total=   1.5s\n",
            "[CV] bootstrap=True, max_depth=8, min_samples_split=2, n_estimators=500 \n",
            "[CV]  bootstrap=True, max_depth=8, min_samples_split=2, n_estimators=500, score=0.894, total=   1.5s\n",
            "[CV] bootstrap=True, max_depth=8, min_samples_split=2, n_estimators=500 \n",
            "[CV]  bootstrap=True, max_depth=8, min_samples_split=2, n_estimators=500, score=0.881, total=   1.5s\n",
            "[CV] bootstrap=True, max_depth=8, min_samples_split=2, n_estimators=700 \n",
            "[CV]  bootstrap=True, max_depth=8, min_samples_split=2, n_estimators=700, score=0.883, total=   2.1s\n",
            "[CV] bootstrap=True, max_depth=8, min_samples_split=2, n_estimators=700 \n",
            "[CV]  bootstrap=True, max_depth=8, min_samples_split=2, n_estimators=700, score=0.896, total=   2.1s\n",
            "[CV] bootstrap=True, max_depth=8, min_samples_split=2, n_estimators=700 \n",
            "[CV]  bootstrap=True, max_depth=8, min_samples_split=2, n_estimators=700, score=0.883, total=   2.1s\n",
            "[CV] bootstrap=True, max_depth=8, min_samples_split=2, n_estimators=1000 \n",
            "[CV]  bootstrap=True, max_depth=8, min_samples_split=2, n_estimators=1000, score=0.885, total=   3.1s\n",
            "[CV] bootstrap=True, max_depth=8, min_samples_split=2, n_estimators=1000 \n",
            "[CV]  bootstrap=True, max_depth=8, min_samples_split=2, n_estimators=1000, score=0.895, total=   3.0s\n",
            "[CV] bootstrap=True, max_depth=8, min_samples_split=2, n_estimators=1000 \n",
            "[CV]  bootstrap=True, max_depth=8, min_samples_split=2, n_estimators=1000, score=0.885, total=   3.0s\n",
            "[CV] bootstrap=True, max_depth=8, min_samples_split=5, n_estimators=400 \n",
            "[CV]  bootstrap=True, max_depth=8, min_samples_split=5, n_estimators=400, score=0.882, total=   1.2s\n",
            "[CV] bootstrap=True, max_depth=8, min_samples_split=5, n_estimators=400 \n",
            "[CV]  bootstrap=True, max_depth=8, min_samples_split=5, n_estimators=400, score=0.893, total=   1.2s\n",
            "[CV] bootstrap=True, max_depth=8, min_samples_split=5, n_estimators=400 \n",
            "[CV]  bootstrap=True, max_depth=8, min_samples_split=5, n_estimators=400, score=0.881, total=   1.2s\n",
            "[CV] bootstrap=True, max_depth=8, min_samples_split=5, n_estimators=500 \n",
            "[CV]  bootstrap=True, max_depth=8, min_samples_split=5, n_estimators=500, score=0.882, total=   1.6s\n",
            "[CV] bootstrap=True, max_depth=8, min_samples_split=5, n_estimators=500 \n",
            "[CV]  bootstrap=True, max_depth=8, min_samples_split=5, n_estimators=500, score=0.893, total=   1.5s\n",
            "[CV] bootstrap=True, max_depth=8, min_samples_split=5, n_estimators=500 \n",
            "[CV]  bootstrap=True, max_depth=8, min_samples_split=5, n_estimators=500, score=0.879, total=   1.5s\n",
            "[CV] bootstrap=True, max_depth=8, min_samples_split=5, n_estimators=700 \n",
            "[CV]  bootstrap=True, max_depth=8, min_samples_split=5, n_estimators=700, score=0.881, total=   2.1s\n",
            "[CV] bootstrap=True, max_depth=8, min_samples_split=5, n_estimators=700 \n",
            "[CV]  bootstrap=True, max_depth=8, min_samples_split=5, n_estimators=700, score=0.893, total=   2.1s\n",
            "[CV] bootstrap=True, max_depth=8, min_samples_split=5, n_estimators=700 \n",
            "[CV]  bootstrap=True, max_depth=8, min_samples_split=5, n_estimators=700, score=0.879, total=   2.1s\n",
            "[CV] bootstrap=True, max_depth=8, min_samples_split=5, n_estimators=1000 \n",
            "[CV]  bootstrap=True, max_depth=8, min_samples_split=5, n_estimators=1000, score=0.882, total=   3.0s\n",
            "[CV] bootstrap=True, max_depth=8, min_samples_split=5, n_estimators=1000 \n",
            "[CV]  bootstrap=True, max_depth=8, min_samples_split=5, n_estimators=1000, score=0.894, total=   3.0s\n",
            "[CV] bootstrap=True, max_depth=8, min_samples_split=5, n_estimators=1000 \n",
            "[CV]  bootstrap=True, max_depth=8, min_samples_split=5, n_estimators=1000, score=0.882, total=   3.0s\n",
            "[CV] bootstrap=True, max_depth=8, min_samples_split=10, n_estimators=400 \n",
            "[CV]  bootstrap=True, max_depth=8, min_samples_split=10, n_estimators=400, score=0.874, total=   1.2s\n",
            "[CV] bootstrap=True, max_depth=8, min_samples_split=10, n_estimators=400 \n",
            "[CV]  bootstrap=True, max_depth=8, min_samples_split=10, n_estimators=400, score=0.892, total=   1.2s\n",
            "[CV] bootstrap=True, max_depth=8, min_samples_split=10, n_estimators=400 \n",
            "[CV]  bootstrap=True, max_depth=8, min_samples_split=10, n_estimators=400, score=0.876, total=   1.3s\n",
            "[CV] bootstrap=True, max_depth=8, min_samples_split=10, n_estimators=500 \n",
            "[CV]  bootstrap=True, max_depth=8, min_samples_split=10, n_estimators=500, score=0.872, total=   1.5s\n",
            "[CV] bootstrap=True, max_depth=8, min_samples_split=10, n_estimators=500 \n",
            "[CV]  bootstrap=True, max_depth=8, min_samples_split=10, n_estimators=500, score=0.890, total=   1.5s\n",
            "[CV] bootstrap=True, max_depth=8, min_samples_split=10, n_estimators=500 \n",
            "[CV]  bootstrap=True, max_depth=8, min_samples_split=10, n_estimators=500, score=0.876, total=   1.5s\n",
            "[CV] bootstrap=True, max_depth=8, min_samples_split=10, n_estimators=700 \n",
            "[CV]  bootstrap=True, max_depth=8, min_samples_split=10, n_estimators=700, score=0.874, total=   2.1s\n",
            "[CV] bootstrap=True, max_depth=8, min_samples_split=10, n_estimators=700 \n",
            "[CV]  bootstrap=True, max_depth=8, min_samples_split=10, n_estimators=700, score=0.889, total=   2.1s\n",
            "[CV] bootstrap=True, max_depth=8, min_samples_split=10, n_estimators=700 \n",
            "[CV]  bootstrap=True, max_depth=8, min_samples_split=10, n_estimators=700, score=0.876, total=   2.1s\n",
            "[CV] bootstrap=True, max_depth=8, min_samples_split=10, n_estimators=1000 \n",
            "[CV]  bootstrap=True, max_depth=8, min_samples_split=10, n_estimators=1000, score=0.875, total=   3.1s\n",
            "[CV] bootstrap=True, max_depth=8, min_samples_split=10, n_estimators=1000 \n",
            "[CV]  bootstrap=True, max_depth=8, min_samples_split=10, n_estimators=1000, score=0.886, total=   3.0s\n",
            "[CV] bootstrap=True, max_depth=8, min_samples_split=10, n_estimators=1000 \n",
            "[CV]  bootstrap=True, max_depth=8, min_samples_split=10, n_estimators=1000, score=0.878, total=   3.0s\n",
            "[CV] bootstrap=True, max_depth=8, min_samples_split=20, n_estimators=400 \n",
            "[CV]  bootstrap=True, max_depth=8, min_samples_split=20, n_estimators=400, score=0.863, total=   1.2s\n",
            "[CV] bootstrap=True, max_depth=8, min_samples_split=20, n_estimators=400 \n",
            "[CV]  bootstrap=True, max_depth=8, min_samples_split=20, n_estimators=400, score=0.876, total=   1.2s\n",
            "[CV] bootstrap=True, max_depth=8, min_samples_split=20, n_estimators=400 \n",
            "[CV]  bootstrap=True, max_depth=8, min_samples_split=20, n_estimators=400, score=0.867, total=   1.2s\n",
            "[CV] bootstrap=True, max_depth=8, min_samples_split=20, n_estimators=500 \n",
            "[CV]  bootstrap=True, max_depth=8, min_samples_split=20, n_estimators=500, score=0.866, total=   1.5s\n",
            "[CV] bootstrap=True, max_depth=8, min_samples_split=20, n_estimators=500 \n",
            "[CV]  bootstrap=True, max_depth=8, min_samples_split=20, n_estimators=500, score=0.879, total=   1.5s\n",
            "[CV] bootstrap=True, max_depth=8, min_samples_split=20, n_estimators=500 \n",
            "[CV]  bootstrap=True, max_depth=8, min_samples_split=20, n_estimators=500, score=0.865, total=   1.5s\n",
            "[CV] bootstrap=True, max_depth=8, min_samples_split=20, n_estimators=700 \n",
            "[CV]  bootstrap=True, max_depth=8, min_samples_split=20, n_estimators=700, score=0.865, total=   2.1s\n",
            "[CV] bootstrap=True, max_depth=8, min_samples_split=20, n_estimators=700 \n",
            "[CV]  bootstrap=True, max_depth=8, min_samples_split=20, n_estimators=700, score=0.876, total=   2.1s\n",
            "[CV] bootstrap=True, max_depth=8, min_samples_split=20, n_estimators=700 \n",
            "[CV]  bootstrap=True, max_depth=8, min_samples_split=20, n_estimators=700, score=0.869, total=   2.1s\n",
            "[CV] bootstrap=True, max_depth=8, min_samples_split=20, n_estimators=1000 \n",
            "[CV]  bootstrap=True, max_depth=8, min_samples_split=20, n_estimators=1000, score=0.864, total=   3.0s\n",
            "[CV] bootstrap=True, max_depth=8, min_samples_split=20, n_estimators=1000 \n",
            "[CV]  bootstrap=True, max_depth=8, min_samples_split=20, n_estimators=1000, score=0.877, total=   3.0s\n",
            "[CV] bootstrap=True, max_depth=8, min_samples_split=20, n_estimators=1000 \n",
            "[CV]  bootstrap=True, max_depth=8, min_samples_split=20, n_estimators=1000, score=0.870, total=   3.0s\n",
            "[CV] bootstrap=True, max_depth=10, min_samples_split=2, n_estimators=400 \n",
            "[CV]  bootstrap=True, max_depth=10, min_samples_split=2, n_estimators=400, score=0.940, total=   1.3s\n",
            "[CV] bootstrap=True, max_depth=10, min_samples_split=2, n_estimators=400 \n",
            "[CV]  bootstrap=True, max_depth=10, min_samples_split=2, n_estimators=400, score=0.938, total=   1.4s\n",
            "[CV] bootstrap=True, max_depth=10, min_samples_split=2, n_estimators=400 \n",
            "[CV]  bootstrap=True, max_depth=10, min_samples_split=2, n_estimators=400, score=0.933, total=   1.4s\n",
            "[CV] bootstrap=True, max_depth=10, min_samples_split=2, n_estimators=500 \n",
            "[CV]  bootstrap=True, max_depth=10, min_samples_split=2, n_estimators=500, score=0.942, total=   1.7s\n",
            "[CV] bootstrap=True, max_depth=10, min_samples_split=2, n_estimators=500 \n",
            "[CV]  bootstrap=True, max_depth=10, min_samples_split=2, n_estimators=500, score=0.936, total=   1.7s\n",
            "[CV] bootstrap=True, max_depth=10, min_samples_split=2, n_estimators=500 \n",
            "[CV]  bootstrap=True, max_depth=10, min_samples_split=2, n_estimators=500, score=0.933, total=   1.7s\n",
            "[CV] bootstrap=True, max_depth=10, min_samples_split=2, n_estimators=700 \n",
            "[CV]  bootstrap=True, max_depth=10, min_samples_split=2, n_estimators=700, score=0.941, total=   2.4s\n",
            "[CV] bootstrap=True, max_depth=10, min_samples_split=2, n_estimators=700 \n",
            "[CV]  bootstrap=True, max_depth=10, min_samples_split=2, n_estimators=700, score=0.939, total=   2.4s\n",
            "[CV] bootstrap=True, max_depth=10, min_samples_split=2, n_estimators=700 \n",
            "[CV]  bootstrap=True, max_depth=10, min_samples_split=2, n_estimators=700, score=0.934, total=   2.4s\n",
            "[CV] bootstrap=True, max_depth=10, min_samples_split=2, n_estimators=1000 \n",
            "[CV]  bootstrap=True, max_depth=10, min_samples_split=2, n_estimators=1000, score=0.941, total=   3.4s\n",
            "[CV] bootstrap=True, max_depth=10, min_samples_split=2, n_estimators=1000 \n",
            "[CV]  bootstrap=True, max_depth=10, min_samples_split=2, n_estimators=1000, score=0.937, total=   3.4s\n",
            "[CV] bootstrap=True, max_depth=10, min_samples_split=2, n_estimators=1000 \n",
            "[CV]  bootstrap=True, max_depth=10, min_samples_split=2, n_estimators=1000, score=0.933, total=   3.4s\n",
            "[CV] bootstrap=True, max_depth=10, min_samples_split=5, n_estimators=400 \n",
            "[CV]  bootstrap=True, max_depth=10, min_samples_split=5, n_estimators=400, score=0.938, total=   1.4s\n",
            "[CV] bootstrap=True, max_depth=10, min_samples_split=5, n_estimators=400 \n",
            "[CV]  bootstrap=True, max_depth=10, min_samples_split=5, n_estimators=400, score=0.935, total=   1.4s\n",
            "[CV] bootstrap=True, max_depth=10, min_samples_split=5, n_estimators=400 \n",
            "[CV]  bootstrap=True, max_depth=10, min_samples_split=5, n_estimators=400, score=0.930, total=   1.3s\n",
            "[CV] bootstrap=True, max_depth=10, min_samples_split=5, n_estimators=500 \n",
            "[CV]  bootstrap=True, max_depth=10, min_samples_split=5, n_estimators=500, score=0.935, total=   1.7s\n",
            "[CV] bootstrap=True, max_depth=10, min_samples_split=5, n_estimators=500 \n",
            "[CV]  bootstrap=True, max_depth=10, min_samples_split=5, n_estimators=500, score=0.936, total=   1.7s\n",
            "[CV] bootstrap=True, max_depth=10, min_samples_split=5, n_estimators=500 \n",
            "[CV]  bootstrap=True, max_depth=10, min_samples_split=5, n_estimators=500, score=0.930, total=   1.7s\n",
            "[CV] bootstrap=True, max_depth=10, min_samples_split=5, n_estimators=700 \n",
            "[CV]  bootstrap=True, max_depth=10, min_samples_split=5, n_estimators=700, score=0.939, total=   2.3s\n",
            "[CV] bootstrap=True, max_depth=10, min_samples_split=5, n_estimators=700 \n",
            "[CV]  bootstrap=True, max_depth=10, min_samples_split=5, n_estimators=700, score=0.936, total=   2.4s\n",
            "[CV] bootstrap=True, max_depth=10, min_samples_split=5, n_estimators=700 \n",
            "[CV]  bootstrap=True, max_depth=10, min_samples_split=5, n_estimators=700, score=0.930, total=   2.4s\n",
            "[CV] bootstrap=True, max_depth=10, min_samples_split=5, n_estimators=1000 \n",
            "[CV]  bootstrap=True, max_depth=10, min_samples_split=5, n_estimators=1000, score=0.937, total=   3.4s\n",
            "[CV] bootstrap=True, max_depth=10, min_samples_split=5, n_estimators=1000 \n",
            "[CV]  bootstrap=True, max_depth=10, min_samples_split=5, n_estimators=1000, score=0.936, total=   3.4s\n",
            "[CV] bootstrap=True, max_depth=10, min_samples_split=5, n_estimators=1000 \n",
            "[CV]  bootstrap=True, max_depth=10, min_samples_split=5, n_estimators=1000, score=0.930, total=   3.4s\n",
            "[CV] bootstrap=True, max_depth=10, min_samples_split=10, n_estimators=400 \n",
            "[CV]  bootstrap=True, max_depth=10, min_samples_split=10, n_estimators=400, score=0.929, total=   1.3s\n",
            "[CV] bootstrap=True, max_depth=10, min_samples_split=10, n_estimators=400 \n",
            "[CV]  bootstrap=True, max_depth=10, min_samples_split=10, n_estimators=400, score=0.929, total=   1.3s\n",
            "[CV] bootstrap=True, max_depth=10, min_samples_split=10, n_estimators=400 \n",
            "[CV]  bootstrap=True, max_depth=10, min_samples_split=10, n_estimators=400, score=0.923, total=   1.3s\n",
            "[CV] bootstrap=True, max_depth=10, min_samples_split=10, n_estimators=500 \n",
            "[CV]  bootstrap=True, max_depth=10, min_samples_split=10, n_estimators=500, score=0.928, total=   1.7s\n",
            "[CV] bootstrap=True, max_depth=10, min_samples_split=10, n_estimators=500 \n",
            "[CV]  bootstrap=True, max_depth=10, min_samples_split=10, n_estimators=500, score=0.927, total=   1.7s\n",
            "[CV] bootstrap=True, max_depth=10, min_samples_split=10, n_estimators=500 \n",
            "[CV]  bootstrap=True, max_depth=10, min_samples_split=10, n_estimators=500, score=0.920, total=   1.8s\n",
            "[CV] bootstrap=True, max_depth=10, min_samples_split=10, n_estimators=700 \n",
            "[CV]  bootstrap=True, max_depth=10, min_samples_split=10, n_estimators=700, score=0.929, total=   2.4s\n",
            "[CV] bootstrap=True, max_depth=10, min_samples_split=10, n_estimators=700 \n",
            "[CV]  bootstrap=True, max_depth=10, min_samples_split=10, n_estimators=700, score=0.927, total=   2.3s\n",
            "[CV] bootstrap=True, max_depth=10, min_samples_split=10, n_estimators=700 \n",
            "[CV]  bootstrap=True, max_depth=10, min_samples_split=10, n_estimators=700, score=0.923, total=   2.3s\n",
            "[CV] bootstrap=True, max_depth=10, min_samples_split=10, n_estimators=1000 \n",
            "[CV]  bootstrap=True, max_depth=10, min_samples_split=10, n_estimators=1000, score=0.930, total=   3.3s\n",
            "[CV] bootstrap=True, max_depth=10, min_samples_split=10, n_estimators=1000 \n",
            "[CV]  bootstrap=True, max_depth=10, min_samples_split=10, n_estimators=1000, score=0.927, total=   3.4s\n",
            "[CV] bootstrap=True, max_depth=10, min_samples_split=10, n_estimators=1000 \n",
            "[CV]  bootstrap=True, max_depth=10, min_samples_split=10, n_estimators=1000, score=0.921, total=   3.4s\n",
            "[CV] bootstrap=True, max_depth=10, min_samples_split=20, n_estimators=400 \n",
            "[CV]  bootstrap=True, max_depth=10, min_samples_split=20, n_estimators=400, score=0.911, total=   1.3s\n",
            "[CV] bootstrap=True, max_depth=10, min_samples_split=20, n_estimators=400 \n",
            "[CV]  bootstrap=True, max_depth=10, min_samples_split=20, n_estimators=400, score=0.912, total=   1.3s\n",
            "[CV] bootstrap=True, max_depth=10, min_samples_split=20, n_estimators=400 \n",
            "[CV]  bootstrap=True, max_depth=10, min_samples_split=20, n_estimators=400, score=0.909, total=   1.3s\n",
            "[CV] bootstrap=True, max_depth=10, min_samples_split=20, n_estimators=500 \n",
            "[CV]  bootstrap=True, max_depth=10, min_samples_split=20, n_estimators=500, score=0.909, total=   1.6s\n",
            "[CV] bootstrap=True, max_depth=10, min_samples_split=20, n_estimators=500 \n",
            "[CV]  bootstrap=True, max_depth=10, min_samples_split=20, n_estimators=500, score=0.907, total=   1.7s\n",
            "[CV] bootstrap=True, max_depth=10, min_samples_split=20, n_estimators=500 \n",
            "[CV]  bootstrap=True, max_depth=10, min_samples_split=20, n_estimators=500, score=0.906, total=   1.6s\n",
            "[CV] bootstrap=True, max_depth=10, min_samples_split=20, n_estimators=700 \n",
            "[CV]  bootstrap=True, max_depth=10, min_samples_split=20, n_estimators=700, score=0.910, total=   2.4s\n",
            "[CV] bootstrap=True, max_depth=10, min_samples_split=20, n_estimators=700 \n",
            "[CV]  bootstrap=True, max_depth=10, min_samples_split=20, n_estimators=700, score=0.909, total=   2.3s\n",
            "[CV] bootstrap=True, max_depth=10, min_samples_split=20, n_estimators=700 \n",
            "[CV]  bootstrap=True, max_depth=10, min_samples_split=20, n_estimators=700, score=0.905, total=   2.3s\n",
            "[CV] bootstrap=True, max_depth=10, min_samples_split=20, n_estimators=1000 \n",
            "[CV]  bootstrap=True, max_depth=10, min_samples_split=20, n_estimators=1000, score=0.908, total=   3.3s\n",
            "[CV] bootstrap=True, max_depth=10, min_samples_split=20, n_estimators=1000 \n",
            "[CV]  bootstrap=True, max_depth=10, min_samples_split=20, n_estimators=1000, score=0.909, total=   3.3s\n",
            "[CV] bootstrap=True, max_depth=10, min_samples_split=20, n_estimators=1000 \n",
            "[CV]  bootstrap=True, max_depth=10, min_samples_split=20, n_estimators=1000, score=0.903, total=   3.2s\n",
            "[CV] bootstrap=True, max_depth=15, min_samples_split=2, n_estimators=400 \n",
            "[CV]  bootstrap=True, max_depth=15, min_samples_split=2, n_estimators=400, score=0.984, total=   1.6s\n",
            "[CV] bootstrap=True, max_depth=15, min_samples_split=2, n_estimators=400 \n",
            "[CV]  bootstrap=True, max_depth=15, min_samples_split=2, n_estimators=400, score=0.979, total=   1.6s\n",
            "[CV] bootstrap=True, max_depth=15, min_samples_split=2, n_estimators=400 \n",
            "[CV]  bootstrap=True, max_depth=15, min_samples_split=2, n_estimators=400, score=0.977, total=   1.6s\n",
            "[CV] bootstrap=True, max_depth=15, min_samples_split=2, n_estimators=500 \n",
            "[CV]  bootstrap=True, max_depth=15, min_samples_split=2, n_estimators=500, score=0.984, total=   2.0s\n",
            "[CV] bootstrap=True, max_depth=15, min_samples_split=2, n_estimators=500 \n",
            "[CV]  bootstrap=True, max_depth=15, min_samples_split=2, n_estimators=500, score=0.980, total=   2.0s\n",
            "[CV] bootstrap=True, max_depth=15, min_samples_split=2, n_estimators=500 \n",
            "[CV]  bootstrap=True, max_depth=15, min_samples_split=2, n_estimators=500, score=0.976, total=   2.0s\n",
            "[CV] bootstrap=True, max_depth=15, min_samples_split=2, n_estimators=700 \n",
            "[CV]  bootstrap=True, max_depth=15, min_samples_split=2, n_estimators=700, score=0.984, total=   2.8s\n",
            "[CV] bootstrap=True, max_depth=15, min_samples_split=2, n_estimators=700 \n",
            "[CV]  bootstrap=True, max_depth=15, min_samples_split=2, n_estimators=700, score=0.979, total=   2.8s\n",
            "[CV] bootstrap=True, max_depth=15, min_samples_split=2, n_estimators=700 \n",
            "[CV]  bootstrap=True, max_depth=15, min_samples_split=2, n_estimators=700, score=0.977, total=   2.8s\n",
            "[CV] bootstrap=True, max_depth=15, min_samples_split=2, n_estimators=1000 \n",
            "[CV]  bootstrap=True, max_depth=15, min_samples_split=2, n_estimators=1000, score=0.985, total=   4.0s\n",
            "[CV] bootstrap=True, max_depth=15, min_samples_split=2, n_estimators=1000 \n",
            "[CV]  bootstrap=True, max_depth=15, min_samples_split=2, n_estimators=1000, score=0.978, total=   4.0s\n",
            "[CV] bootstrap=True, max_depth=15, min_samples_split=2, n_estimators=1000 \n",
            "[CV]  bootstrap=True, max_depth=15, min_samples_split=2, n_estimators=1000, score=0.978, total=   4.0s\n",
            "[CV] bootstrap=True, max_depth=15, min_samples_split=5, n_estimators=400 \n",
            "[CV]  bootstrap=True, max_depth=15, min_samples_split=5, n_estimators=400, score=0.980, total=   1.6s\n",
            "[CV] bootstrap=True, max_depth=15, min_samples_split=5, n_estimators=400 \n",
            "[CV]  bootstrap=True, max_depth=15, min_samples_split=5, n_estimators=400, score=0.977, total=   1.6s\n",
            "[CV] bootstrap=True, max_depth=15, min_samples_split=5, n_estimators=400 \n",
            "[CV]  bootstrap=True, max_depth=15, min_samples_split=5, n_estimators=400, score=0.974, total=   1.6s\n",
            "[CV] bootstrap=True, max_depth=15, min_samples_split=5, n_estimators=500 \n",
            "[CV]  bootstrap=True, max_depth=15, min_samples_split=5, n_estimators=500, score=0.981, total=   2.0s\n",
            "[CV] bootstrap=True, max_depth=15, min_samples_split=5, n_estimators=500 \n",
            "[CV]  bootstrap=True, max_depth=15, min_samples_split=5, n_estimators=500, score=0.977, total=   1.9s\n",
            "[CV] bootstrap=True, max_depth=15, min_samples_split=5, n_estimators=500 \n",
            "[CV]  bootstrap=True, max_depth=15, min_samples_split=5, n_estimators=500, score=0.974, total=   1.9s\n",
            "[CV] bootstrap=True, max_depth=15, min_samples_split=5, n_estimators=700 \n",
            "[CV]  bootstrap=True, max_depth=15, min_samples_split=5, n_estimators=700, score=0.980, total=   2.7s\n",
            "[CV] bootstrap=True, max_depth=15, min_samples_split=5, n_estimators=700 \n",
            "[CV]  bootstrap=True, max_depth=15, min_samples_split=5, n_estimators=700, score=0.975, total=   2.7s\n",
            "[CV] bootstrap=True, max_depth=15, min_samples_split=5, n_estimators=700 \n",
            "[CV]  bootstrap=True, max_depth=15, min_samples_split=5, n_estimators=700, score=0.973, total=   2.8s\n",
            "[CV] bootstrap=True, max_depth=15, min_samples_split=5, n_estimators=1000 \n",
            "[CV]  bootstrap=True, max_depth=15, min_samples_split=5, n_estimators=1000, score=0.981, total=   3.9s\n",
            "[CV] bootstrap=True, max_depth=15, min_samples_split=5, n_estimators=1000 \n",
            "[CV]  bootstrap=True, max_depth=15, min_samples_split=5, n_estimators=1000, score=0.976, total=   3.9s\n",
            "[CV] bootstrap=True, max_depth=15, min_samples_split=5, n_estimators=1000 \n",
            "[CV]  bootstrap=True, max_depth=15, min_samples_split=5, n_estimators=1000, score=0.974, total=   3.9s\n",
            "[CV] bootstrap=True, max_depth=15, min_samples_split=10, n_estimators=400 \n",
            "[CV]  bootstrap=True, max_depth=15, min_samples_split=10, n_estimators=400, score=0.971, total=   1.5s\n",
            "[CV] bootstrap=True, max_depth=15, min_samples_split=10, n_estimators=400 \n",
            "[CV]  bootstrap=True, max_depth=15, min_samples_split=10, n_estimators=400, score=0.966, total=   1.5s\n",
            "[CV] bootstrap=True, max_depth=15, min_samples_split=10, n_estimators=400 \n",
            "[CV]  bootstrap=True, max_depth=15, min_samples_split=10, n_estimators=400, score=0.964, total=   1.6s\n",
            "[CV] bootstrap=True, max_depth=15, min_samples_split=10, n_estimators=500 \n",
            "[CV]  bootstrap=True, max_depth=15, min_samples_split=10, n_estimators=500, score=0.971, total=   1.9s\n",
            "[CV] bootstrap=True, max_depth=15, min_samples_split=10, n_estimators=500 \n",
            "[CV]  bootstrap=True, max_depth=15, min_samples_split=10, n_estimators=500, score=0.968, total=   1.9s\n",
            "[CV] bootstrap=True, max_depth=15, min_samples_split=10, n_estimators=500 \n",
            "[CV]  bootstrap=True, max_depth=15, min_samples_split=10, n_estimators=500, score=0.965, total=   1.9s\n",
            "[CV] bootstrap=True, max_depth=15, min_samples_split=10, n_estimators=700 \n",
            "[CV]  bootstrap=True, max_depth=15, min_samples_split=10, n_estimators=700, score=0.971, total=   2.6s\n",
            "[CV] bootstrap=True, max_depth=15, min_samples_split=10, n_estimators=700 \n",
            "[CV]  bootstrap=True, max_depth=15, min_samples_split=10, n_estimators=700, score=0.967, total=   2.6s\n",
            "[CV] bootstrap=True, max_depth=15, min_samples_split=10, n_estimators=700 \n",
            "[CV]  bootstrap=True, max_depth=15, min_samples_split=10, n_estimators=700, score=0.963, total=   2.7s\n",
            "[CV] bootstrap=True, max_depth=15, min_samples_split=10, n_estimators=1000 \n",
            "[CV]  bootstrap=True, max_depth=15, min_samples_split=10, n_estimators=1000, score=0.970, total=   3.8s\n",
            "[CV] bootstrap=True, max_depth=15, min_samples_split=10, n_estimators=1000 \n",
            "[CV]  bootstrap=True, max_depth=15, min_samples_split=10, n_estimators=1000, score=0.966, total=   3.8s\n",
            "[CV] bootstrap=True, max_depth=15, min_samples_split=10, n_estimators=1000 \n",
            "[CV]  bootstrap=True, max_depth=15, min_samples_split=10, n_estimators=1000, score=0.964, total=   3.8s\n",
            "[CV] bootstrap=True, max_depth=15, min_samples_split=20, n_estimators=400 \n",
            "[CV]  bootstrap=True, max_depth=15, min_samples_split=20, n_estimators=400, score=0.949, total=   1.4s\n",
            "[CV] bootstrap=True, max_depth=15, min_samples_split=20, n_estimators=400 \n",
            "[CV]  bootstrap=True, max_depth=15, min_samples_split=20, n_estimators=400, score=0.949, total=   1.4s\n",
            "[CV] bootstrap=True, max_depth=15, min_samples_split=20, n_estimators=400 \n",
            "[CV]  bootstrap=True, max_depth=15, min_samples_split=20, n_estimators=400, score=0.943, total=   1.4s\n",
            "[CV] bootstrap=True, max_depth=15, min_samples_split=20, n_estimators=500 \n",
            "[CV]  bootstrap=True, max_depth=15, min_samples_split=20, n_estimators=500, score=0.952, total=   1.8s\n",
            "[CV] bootstrap=True, max_depth=15, min_samples_split=20, n_estimators=500 \n",
            "[CV]  bootstrap=True, max_depth=15, min_samples_split=20, n_estimators=500, score=0.950, total=   1.8s\n",
            "[CV] bootstrap=True, max_depth=15, min_samples_split=20, n_estimators=500 \n",
            "[CV]  bootstrap=True, max_depth=15, min_samples_split=20, n_estimators=500, score=0.941, total=   1.8s\n",
            "[CV] bootstrap=True, max_depth=15, min_samples_split=20, n_estimators=700 \n",
            "[CV]  bootstrap=True, max_depth=15, min_samples_split=20, n_estimators=700, score=0.953, total=   2.5s\n",
            "[CV] bootstrap=True, max_depth=15, min_samples_split=20, n_estimators=700 \n",
            "[CV]  bootstrap=True, max_depth=15, min_samples_split=20, n_estimators=700, score=0.949, total=   2.5s\n",
            "[CV] bootstrap=True, max_depth=15, min_samples_split=20, n_estimators=700 \n",
            "[CV]  bootstrap=True, max_depth=15, min_samples_split=20, n_estimators=700, score=0.944, total=   2.5s\n",
            "[CV] bootstrap=True, max_depth=15, min_samples_split=20, n_estimators=1000 \n",
            "[CV]  bootstrap=True, max_depth=15, min_samples_split=20, n_estimators=1000, score=0.951, total=   3.7s\n",
            "[CV] bootstrap=True, max_depth=15, min_samples_split=20, n_estimators=1000 \n",
            "[CV]  bootstrap=True, max_depth=15, min_samples_split=20, n_estimators=1000, score=0.950, total=   3.6s\n",
            "[CV] bootstrap=True, max_depth=15, min_samples_split=20, n_estimators=1000 \n",
            "[CV]  bootstrap=True, max_depth=15, min_samples_split=20, n_estimators=1000, score=0.944, total=   3.6s\n",
            "[CV] bootstrap=False, max_depth=8, min_samples_split=2, n_estimators=400 \n",
            "[CV]  bootstrap=False, max_depth=8, min_samples_split=2, n_estimators=400, score=0.888, total=   1.3s\n",
            "[CV] bootstrap=False, max_depth=8, min_samples_split=2, n_estimators=400 \n",
            "[CV]  bootstrap=False, max_depth=8, min_samples_split=2, n_estimators=400, score=0.896, total=   1.3s\n",
            "[CV] bootstrap=False, max_depth=8, min_samples_split=2, n_estimators=400 \n",
            "[CV]  bootstrap=False, max_depth=8, min_samples_split=2, n_estimators=400, score=0.883, total=   1.3s\n",
            "[CV] bootstrap=False, max_depth=8, min_samples_split=2, n_estimators=500 \n",
            "[CV]  bootstrap=False, max_depth=8, min_samples_split=2, n_estimators=500, score=0.887, total=   1.6s\n",
            "[CV] bootstrap=False, max_depth=8, min_samples_split=2, n_estimators=500 \n",
            "[CV]  bootstrap=False, max_depth=8, min_samples_split=2, n_estimators=500, score=0.895, total=   1.6s\n",
            "[CV] bootstrap=False, max_depth=8, min_samples_split=2, n_estimators=500 \n",
            "[CV]  bootstrap=False, max_depth=8, min_samples_split=2, n_estimators=500, score=0.883, total=   1.6s\n",
            "[CV] bootstrap=False, max_depth=8, min_samples_split=2, n_estimators=700 \n",
            "[CV]  bootstrap=False, max_depth=8, min_samples_split=2, n_estimators=700, score=0.888, total=   2.2s\n",
            "[CV] bootstrap=False, max_depth=8, min_samples_split=2, n_estimators=700 \n",
            "[CV]  bootstrap=False, max_depth=8, min_samples_split=2, n_estimators=700, score=0.894, total=   2.2s\n",
            "[CV] bootstrap=False, max_depth=8, min_samples_split=2, n_estimators=700 \n",
            "[CV]  bootstrap=False, max_depth=8, min_samples_split=2, n_estimators=700, score=0.884, total=   2.2s\n",
            "[CV] bootstrap=False, max_depth=8, min_samples_split=2, n_estimators=1000 \n",
            "[CV]  bootstrap=False, max_depth=8, min_samples_split=2, n_estimators=1000, score=0.890, total=   3.2s\n",
            "[CV] bootstrap=False, max_depth=8, min_samples_split=2, n_estimators=1000 \n",
            "[CV]  bootstrap=False, max_depth=8, min_samples_split=2, n_estimators=1000, score=0.894, total=   3.1s\n",
            "[CV] bootstrap=False, max_depth=8, min_samples_split=2, n_estimators=1000 \n",
            "[CV]  bootstrap=False, max_depth=8, min_samples_split=2, n_estimators=1000, score=0.885, total=   3.2s\n",
            "[CV] bootstrap=False, max_depth=8, min_samples_split=5, n_estimators=400 \n",
            "[CV]  bootstrap=False, max_depth=8, min_samples_split=5, n_estimators=400, score=0.885, total=   1.3s\n",
            "[CV] bootstrap=False, max_depth=8, min_samples_split=5, n_estimators=400 \n",
            "[CV]  bootstrap=False, max_depth=8, min_samples_split=5, n_estimators=400, score=0.892, total=   1.3s\n",
            "[CV] bootstrap=False, max_depth=8, min_samples_split=5, n_estimators=400 \n",
            "[CV]  bootstrap=False, max_depth=8, min_samples_split=5, n_estimators=400, score=0.882, total=   1.3s\n",
            "[CV] bootstrap=False, max_depth=8, min_samples_split=5, n_estimators=500 \n",
            "[CV]  bootstrap=False, max_depth=8, min_samples_split=5, n_estimators=500, score=0.884, total=   1.6s\n",
            "[CV] bootstrap=False, max_depth=8, min_samples_split=5, n_estimators=500 \n",
            "[CV]  bootstrap=False, max_depth=8, min_samples_split=5, n_estimators=500, score=0.896, total=   1.6s\n",
            "[CV] bootstrap=False, max_depth=8, min_samples_split=5, n_estimators=500 \n",
            "[CV]  bootstrap=False, max_depth=8, min_samples_split=5, n_estimators=500, score=0.890, total=   1.6s\n",
            "[CV] bootstrap=False, max_depth=8, min_samples_split=5, n_estimators=700 \n",
            "[CV]  bootstrap=False, max_depth=8, min_samples_split=5, n_estimators=700, score=0.885, total=   2.2s\n",
            "[CV] bootstrap=False, max_depth=8, min_samples_split=5, n_estimators=700 \n",
            "[CV]  bootstrap=False, max_depth=8, min_samples_split=5, n_estimators=700, score=0.891, total=   2.2s\n",
            "[CV] bootstrap=False, max_depth=8, min_samples_split=5, n_estimators=700 \n",
            "[CV]  bootstrap=False, max_depth=8, min_samples_split=5, n_estimators=700, score=0.882, total=   2.2s\n",
            "[CV] bootstrap=False, max_depth=8, min_samples_split=5, n_estimators=1000 \n",
            "[CV]  bootstrap=False, max_depth=8, min_samples_split=5, n_estimators=1000, score=0.885, total=   3.1s\n",
            "[CV] bootstrap=False, max_depth=8, min_samples_split=5, n_estimators=1000 \n",
            "[CV]  bootstrap=False, max_depth=8, min_samples_split=5, n_estimators=1000, score=0.896, total=   3.2s\n",
            "[CV] bootstrap=False, max_depth=8, min_samples_split=5, n_estimators=1000 \n",
            "[CV]  bootstrap=False, max_depth=8, min_samples_split=5, n_estimators=1000, score=0.883, total=   3.2s\n",
            "[CV] bootstrap=False, max_depth=8, min_samples_split=10, n_estimators=400 \n",
            "[CV]  bootstrap=False, max_depth=8, min_samples_split=10, n_estimators=400, score=0.882, total=   1.3s\n",
            "[CV] bootstrap=False, max_depth=8, min_samples_split=10, n_estimators=400 \n",
            "[CV]  bootstrap=False, max_depth=8, min_samples_split=10, n_estimators=400, score=0.892, total=   1.3s\n",
            "[CV] bootstrap=False, max_depth=8, min_samples_split=10, n_estimators=400 \n",
            "[CV]  bootstrap=False, max_depth=8, min_samples_split=10, n_estimators=400, score=0.879, total=   1.2s\n",
            "[CV] bootstrap=False, max_depth=8, min_samples_split=10, n_estimators=500 \n",
            "[CV]  bootstrap=False, max_depth=8, min_samples_split=10, n_estimators=500, score=0.880, total=   1.6s\n",
            "[CV] bootstrap=False, max_depth=8, min_samples_split=10, n_estimators=500 \n",
            "[CV]  bootstrap=False, max_depth=8, min_samples_split=10, n_estimators=500, score=0.891, total=   1.6s\n",
            "[CV] bootstrap=False, max_depth=8, min_samples_split=10, n_estimators=500 \n",
            "[CV]  bootstrap=False, max_depth=8, min_samples_split=10, n_estimators=500, score=0.880, total=   1.6s\n",
            "[CV] bootstrap=False, max_depth=8, min_samples_split=10, n_estimators=700 \n",
            "[CV]  bootstrap=False, max_depth=8, min_samples_split=10, n_estimators=700, score=0.878, total=   2.2s\n",
            "[CV] bootstrap=False, max_depth=8, min_samples_split=10, n_estimators=700 \n",
            "[CV]  bootstrap=False, max_depth=8, min_samples_split=10, n_estimators=700, score=0.891, total=   2.2s\n",
            "[CV] bootstrap=False, max_depth=8, min_samples_split=10, n_estimators=700 \n",
            "[CV]  bootstrap=False, max_depth=8, min_samples_split=10, n_estimators=700, score=0.878, total=   2.2s\n",
            "[CV] bootstrap=False, max_depth=8, min_samples_split=10, n_estimators=1000 \n",
            "[CV]  bootstrap=False, max_depth=8, min_samples_split=10, n_estimators=1000, score=0.879, total=   3.1s\n",
            "[CV] bootstrap=False, max_depth=8, min_samples_split=10, n_estimators=1000 \n",
            "[CV]  bootstrap=False, max_depth=8, min_samples_split=10, n_estimators=1000, score=0.891, total=   3.1s\n",
            "[CV] bootstrap=False, max_depth=8, min_samples_split=10, n_estimators=1000 \n",
            "[CV]  bootstrap=False, max_depth=8, min_samples_split=10, n_estimators=1000, score=0.880, total=   3.1s\n",
            "[CV] bootstrap=False, max_depth=8, min_samples_split=20, n_estimators=400 \n",
            "[CV]  bootstrap=False, max_depth=8, min_samples_split=20, n_estimators=400, score=0.877, total=   1.3s\n",
            "[CV] bootstrap=False, max_depth=8, min_samples_split=20, n_estimators=400 \n",
            "[CV]  bootstrap=False, max_depth=8, min_samples_split=20, n_estimators=400, score=0.884, total=   1.2s\n",
            "[CV] bootstrap=False, max_depth=8, min_samples_split=20, n_estimators=400 \n",
            "[CV]  bootstrap=False, max_depth=8, min_samples_split=20, n_estimators=400, score=0.875, total=   1.2s\n",
            "[CV] bootstrap=False, max_depth=8, min_samples_split=20, n_estimators=500 \n",
            "[CV]  bootstrap=False, max_depth=8, min_samples_split=20, n_estimators=500, score=0.871, total=   1.6s\n",
            "[CV] bootstrap=False, max_depth=8, min_samples_split=20, n_estimators=500 \n",
            "[CV]  bootstrap=False, max_depth=8, min_samples_split=20, n_estimators=500, score=0.884, total=   1.6s\n",
            "[CV] bootstrap=False, max_depth=8, min_samples_split=20, n_estimators=500 \n",
            "[CV]  bootstrap=False, max_depth=8, min_samples_split=20, n_estimators=500, score=0.873, total=   1.6s\n",
            "[CV] bootstrap=False, max_depth=8, min_samples_split=20, n_estimators=700 \n",
            "[CV]  bootstrap=False, max_depth=8, min_samples_split=20, n_estimators=700, score=0.875, total=   2.2s\n",
            "[CV] bootstrap=False, max_depth=8, min_samples_split=20, n_estimators=700 \n",
            "[CV]  bootstrap=False, max_depth=8, min_samples_split=20, n_estimators=700, score=0.888, total=   2.2s\n",
            "[CV] bootstrap=False, max_depth=8, min_samples_split=20, n_estimators=700 \n",
            "[CV]  bootstrap=False, max_depth=8, min_samples_split=20, n_estimators=700, score=0.872, total=   2.2s\n",
            "[CV] bootstrap=False, max_depth=8, min_samples_split=20, n_estimators=1000 \n",
            "[CV]  bootstrap=False, max_depth=8, min_samples_split=20, n_estimators=1000, score=0.873, total=   3.1s\n",
            "[CV] bootstrap=False, max_depth=8, min_samples_split=20, n_estimators=1000 \n",
            "[CV]  bootstrap=False, max_depth=8, min_samples_split=20, n_estimators=1000, score=0.884, total=   3.1s\n",
            "[CV] bootstrap=False, max_depth=8, min_samples_split=20, n_estimators=1000 \n",
            "[CV]  bootstrap=False, max_depth=8, min_samples_split=20, n_estimators=1000, score=0.874, total=   3.2s\n",
            "[CV] bootstrap=False, max_depth=10, min_samples_split=2, n_estimators=400 \n",
            "[CV]  bootstrap=False, max_depth=10, min_samples_split=2, n_estimators=400, score=0.950, total=   1.5s\n",
            "[CV] bootstrap=False, max_depth=10, min_samples_split=2, n_estimators=400 \n",
            "[CV]  bootstrap=False, max_depth=10, min_samples_split=2, n_estimators=400, score=0.940, total=   1.4s\n",
            "[CV] bootstrap=False, max_depth=10, min_samples_split=2, n_estimators=400 \n",
            "[CV]  bootstrap=False, max_depth=10, min_samples_split=2, n_estimators=400, score=0.939, total=   1.4s\n",
            "[CV] bootstrap=False, max_depth=10, min_samples_split=2, n_estimators=500 \n",
            "[CV]  bootstrap=False, max_depth=10, min_samples_split=2, n_estimators=500, score=0.948, total=   1.9s\n",
            "[CV] bootstrap=False, max_depth=10, min_samples_split=2, n_estimators=500 \n",
            "[CV]  bootstrap=False, max_depth=10, min_samples_split=2, n_estimators=500, score=0.942, total=   1.8s\n",
            "[CV] bootstrap=False, max_depth=10, min_samples_split=2, n_estimators=500 \n",
            "[CV]  bootstrap=False, max_depth=10, min_samples_split=2, n_estimators=500, score=0.939, total=   1.8s\n",
            "[CV] bootstrap=False, max_depth=10, min_samples_split=2, n_estimators=700 \n",
            "[CV]  bootstrap=False, max_depth=10, min_samples_split=2, n_estimators=700, score=0.947, total=   2.5s\n",
            "[CV] bootstrap=False, max_depth=10, min_samples_split=2, n_estimators=700 \n",
            "[CV]  bootstrap=False, max_depth=10, min_samples_split=2, n_estimators=700, score=0.944, total=   2.6s\n",
            "[CV] bootstrap=False, max_depth=10, min_samples_split=2, n_estimators=700 \n",
            "[CV]  bootstrap=False, max_depth=10, min_samples_split=2, n_estimators=700, score=0.936, total=   2.5s\n",
            "[CV] bootstrap=False, max_depth=10, min_samples_split=2, n_estimators=1000 \n",
            "[CV]  bootstrap=False, max_depth=10, min_samples_split=2, n_estimators=1000, score=0.948, total=   3.6s\n",
            "[CV] bootstrap=False, max_depth=10, min_samples_split=2, n_estimators=1000 \n",
            "[CV]  bootstrap=False, max_depth=10, min_samples_split=2, n_estimators=1000, score=0.944, total=   3.6s\n",
            "[CV] bootstrap=False, max_depth=10, min_samples_split=2, n_estimators=1000 \n",
            "[CV]  bootstrap=False, max_depth=10, min_samples_split=2, n_estimators=1000, score=0.935, total=   3.6s\n",
            "[CV] bootstrap=False, max_depth=10, min_samples_split=5, n_estimators=400 \n",
            "[CV]  bootstrap=False, max_depth=10, min_samples_split=5, n_estimators=400, score=0.946, total=   1.5s\n",
            "[CV] bootstrap=False, max_depth=10, min_samples_split=5, n_estimators=400 \n",
            "[CV]  bootstrap=False, max_depth=10, min_samples_split=5, n_estimators=400, score=0.937, total=   1.4s\n",
            "[CV] bootstrap=False, max_depth=10, min_samples_split=5, n_estimators=400 \n",
            "[CV]  bootstrap=False, max_depth=10, min_samples_split=5, n_estimators=400, score=0.937, total=   1.5s\n",
            "[CV] bootstrap=False, max_depth=10, min_samples_split=5, n_estimators=500 \n",
            "[CV]  bootstrap=False, max_depth=10, min_samples_split=5, n_estimators=500, score=0.947, total=   1.8s\n",
            "[CV] bootstrap=False, max_depth=10, min_samples_split=5, n_estimators=500 \n",
            "[CV]  bootstrap=False, max_depth=10, min_samples_split=5, n_estimators=500, score=0.938, total=   1.8s\n",
            "[CV] bootstrap=False, max_depth=10, min_samples_split=5, n_estimators=500 \n",
            "[CV]  bootstrap=False, max_depth=10, min_samples_split=5, n_estimators=500, score=0.938, total=   1.8s\n",
            "[CV] bootstrap=False, max_depth=10, min_samples_split=5, n_estimators=700 \n",
            "[CV]  bootstrap=False, max_depth=10, min_samples_split=5, n_estimators=700, score=0.946, total=   2.6s\n",
            "[CV] bootstrap=False, max_depth=10, min_samples_split=5, n_estimators=700 \n",
            "[CV]  bootstrap=False, max_depth=10, min_samples_split=5, n_estimators=700, score=0.940, total=   2.5s\n",
            "[CV] bootstrap=False, max_depth=10, min_samples_split=5, n_estimators=700 \n",
            "[CV]  bootstrap=False, max_depth=10, min_samples_split=5, n_estimators=700, score=0.939, total=   2.5s\n",
            "[CV] bootstrap=False, max_depth=10, min_samples_split=5, n_estimators=1000 \n",
            "[CV]  bootstrap=False, max_depth=10, min_samples_split=5, n_estimators=1000, score=0.947, total=   3.6s\n",
            "[CV] bootstrap=False, max_depth=10, min_samples_split=5, n_estimators=1000 \n",
            "[CV]  bootstrap=False, max_depth=10, min_samples_split=5, n_estimators=1000, score=0.940, total=   3.6s\n",
            "[CV] bootstrap=False, max_depth=10, min_samples_split=5, n_estimators=1000 \n",
            "[CV]  bootstrap=False, max_depth=10, min_samples_split=5, n_estimators=1000, score=0.937, total=   3.6s\n",
            "[CV] bootstrap=False, max_depth=10, min_samples_split=10, n_estimators=400 \n",
            "[CV]  bootstrap=False, max_depth=10, min_samples_split=10, n_estimators=400, score=0.940, total=   1.4s\n",
            "[CV] bootstrap=False, max_depth=10, min_samples_split=10, n_estimators=400 \n",
            "[CV]  bootstrap=False, max_depth=10, min_samples_split=10, n_estimators=400, score=0.932, total=   1.4s\n",
            "[CV] bootstrap=False, max_depth=10, min_samples_split=10, n_estimators=400 \n",
            "[CV]  bootstrap=False, max_depth=10, min_samples_split=10, n_estimators=400, score=0.930, total=   1.4s\n",
            "[CV] bootstrap=False, max_depth=10, min_samples_split=10, n_estimators=500 \n",
            "[CV]  bootstrap=False, max_depth=10, min_samples_split=10, n_estimators=500, score=0.938, total=   1.8s\n",
            "[CV] bootstrap=False, max_depth=10, min_samples_split=10, n_estimators=500 \n",
            "[CV]  bootstrap=False, max_depth=10, min_samples_split=10, n_estimators=500, score=0.933, total=   1.8s\n",
            "[CV] bootstrap=False, max_depth=10, min_samples_split=10, n_estimators=500 \n",
            "[CV]  bootstrap=False, max_depth=10, min_samples_split=10, n_estimators=500, score=0.931, total=   1.8s\n",
            "[CV] bootstrap=False, max_depth=10, min_samples_split=10, n_estimators=700 \n",
            "[CV]  bootstrap=False, max_depth=10, min_samples_split=10, n_estimators=700, score=0.936, total=   2.5s\n",
            "[CV] bootstrap=False, max_depth=10, min_samples_split=10, n_estimators=700 \n",
            "[CV]  bootstrap=False, max_depth=10, min_samples_split=10, n_estimators=700, score=0.934, total=   2.5s\n",
            "[CV] bootstrap=False, max_depth=10, min_samples_split=10, n_estimators=700 \n",
            "[CV]  bootstrap=False, max_depth=10, min_samples_split=10, n_estimators=700, score=0.931, total=   2.5s\n",
            "[CV] bootstrap=False, max_depth=10, min_samples_split=10, n_estimators=1000 \n",
            "[CV]  bootstrap=False, max_depth=10, min_samples_split=10, n_estimators=1000, score=0.936, total=   3.6s\n",
            "[CV] bootstrap=False, max_depth=10, min_samples_split=10, n_estimators=1000 \n",
            "[CV]  bootstrap=False, max_depth=10, min_samples_split=10, n_estimators=1000, score=0.934, total=   3.7s\n",
            "[CV] bootstrap=False, max_depth=10, min_samples_split=10, n_estimators=1000 \n",
            "[CV]  bootstrap=False, max_depth=10, min_samples_split=10, n_estimators=1000, score=0.930, total=   3.6s\n",
            "[CV] bootstrap=False, max_depth=10, min_samples_split=20, n_estimators=400 \n",
            "[CV]  bootstrap=False, max_depth=10, min_samples_split=20, n_estimators=400, score=0.924, total=   1.4s\n",
            "[CV] bootstrap=False, max_depth=10, min_samples_split=20, n_estimators=400 \n",
            "[CV]  bootstrap=False, max_depth=10, min_samples_split=20, n_estimators=400, score=0.922, total=   1.5s\n",
            "[CV] bootstrap=False, max_depth=10, min_samples_split=20, n_estimators=400 \n",
            "[CV]  bootstrap=False, max_depth=10, min_samples_split=20, n_estimators=400, score=0.918, total=   1.4s\n",
            "[CV] bootstrap=False, max_depth=10, min_samples_split=20, n_estimators=500 \n",
            "[CV]  bootstrap=False, max_depth=10, min_samples_split=20, n_estimators=500, score=0.927, total=   2.0s\n",
            "[CV] bootstrap=False, max_depth=10, min_samples_split=20, n_estimators=500 \n",
            "[CV]  bootstrap=False, max_depth=10, min_samples_split=20, n_estimators=500, score=0.924, total=   1.8s\n",
            "[CV] bootstrap=False, max_depth=10, min_samples_split=20, n_estimators=500 \n",
            "[CV]  bootstrap=False, max_depth=10, min_samples_split=20, n_estimators=500, score=0.917, total=   1.8s\n",
            "[CV] bootstrap=False, max_depth=10, min_samples_split=20, n_estimators=700 \n",
            "[CV]  bootstrap=False, max_depth=10, min_samples_split=20, n_estimators=700, score=0.925, total=   2.5s\n",
            "[CV] bootstrap=False, max_depth=10, min_samples_split=20, n_estimators=700 \n",
            "[CV]  bootstrap=False, max_depth=10, min_samples_split=20, n_estimators=700, score=0.924, total=   2.5s\n",
            "[CV] bootstrap=False, max_depth=10, min_samples_split=20, n_estimators=700 \n",
            "[CV]  bootstrap=False, max_depth=10, min_samples_split=20, n_estimators=700, score=0.916, total=   2.4s\n",
            "[CV] bootstrap=False, max_depth=10, min_samples_split=20, n_estimators=1000 \n",
            "[CV]  bootstrap=False, max_depth=10, min_samples_split=20, n_estimators=1000, score=0.926, total=   3.5s\n",
            "[CV] bootstrap=False, max_depth=10, min_samples_split=20, n_estimators=1000 \n",
            "[CV]  bootstrap=False, max_depth=10, min_samples_split=20, n_estimators=1000, score=0.925, total=   3.5s\n",
            "[CV] bootstrap=False, max_depth=10, min_samples_split=20, n_estimators=1000 \n",
            "[CV]  bootstrap=False, max_depth=10, min_samples_split=20, n_estimators=1000, score=0.918, total=   3.5s\n",
            "[CV] bootstrap=False, max_depth=15, min_samples_split=2, n_estimators=400 \n",
            "[CV]  bootstrap=False, max_depth=15, min_samples_split=2, n_estimators=400, score=0.988, total=   1.8s\n",
            "[CV] bootstrap=False, max_depth=15, min_samples_split=2, n_estimators=400 \n",
            "[CV]  bootstrap=False, max_depth=15, min_samples_split=2, n_estimators=400, score=0.981, total=   1.8s\n",
            "[CV] bootstrap=False, max_depth=15, min_samples_split=2, n_estimators=400 \n",
            "[CV]  bootstrap=False, max_depth=15, min_samples_split=2, n_estimators=400, score=0.981, total=   1.8s\n",
            "[CV] bootstrap=False, max_depth=15, min_samples_split=2, n_estimators=500 \n",
            "[CV]  bootstrap=False, max_depth=15, min_samples_split=2, n_estimators=500, score=0.987, total=   2.2s\n",
            "[CV] bootstrap=False, max_depth=15, min_samples_split=2, n_estimators=500 \n",
            "[CV]  bootstrap=False, max_depth=15, min_samples_split=2, n_estimators=500, score=0.982, total=   2.2s\n",
            "[CV] bootstrap=False, max_depth=15, min_samples_split=2, n_estimators=500 \n",
            "[CV]  bootstrap=False, max_depth=15, min_samples_split=2, n_estimators=500, score=0.980, total=   2.2s\n",
            "[CV] bootstrap=False, max_depth=15, min_samples_split=2, n_estimators=700 \n",
            "[CV]  bootstrap=False, max_depth=15, min_samples_split=2, n_estimators=700, score=0.988, total=   3.1s\n",
            "[CV] bootstrap=False, max_depth=15, min_samples_split=2, n_estimators=700 \n",
            "[CV]  bootstrap=False, max_depth=15, min_samples_split=2, n_estimators=700, score=0.982, total=   3.1s\n",
            "[CV] bootstrap=False, max_depth=15, min_samples_split=2, n_estimators=700 \n",
            "[CV]  bootstrap=False, max_depth=15, min_samples_split=2, n_estimators=700, score=0.979, total=   3.1s\n",
            "[CV] bootstrap=False, max_depth=15, min_samples_split=2, n_estimators=1000 \n",
            "[CV]  bootstrap=False, max_depth=15, min_samples_split=2, n_estimators=1000, score=0.987, total=   4.5s\n",
            "[CV] bootstrap=False, max_depth=15, min_samples_split=2, n_estimators=1000 \n",
            "[CV]  bootstrap=False, max_depth=15, min_samples_split=2, n_estimators=1000, score=0.982, total=   4.4s\n",
            "[CV] bootstrap=False, max_depth=15, min_samples_split=2, n_estimators=1000 \n",
            "[CV]  bootstrap=False, max_depth=15, min_samples_split=2, n_estimators=1000, score=0.981, total=   4.5s\n",
            "[CV] bootstrap=False, max_depth=15, min_samples_split=5, n_estimators=400 \n",
            "[CV]  bootstrap=False, max_depth=15, min_samples_split=5, n_estimators=400, score=0.987, total=   1.8s\n",
            "[CV] bootstrap=False, max_depth=15, min_samples_split=5, n_estimators=400 \n",
            "[CV]  bootstrap=False, max_depth=15, min_samples_split=5, n_estimators=400, score=0.979, total=   1.8s\n",
            "[CV] bootstrap=False, max_depth=15, min_samples_split=5, n_estimators=400 \n",
            "[CV]  bootstrap=False, max_depth=15, min_samples_split=5, n_estimators=400, score=0.978, total=   1.8s\n",
            "[CV] bootstrap=False, max_depth=15, min_samples_split=5, n_estimators=500 \n",
            "[CV]  bootstrap=False, max_depth=15, min_samples_split=5, n_estimators=500, score=0.987, total=   2.2s\n",
            "[CV] bootstrap=False, max_depth=15, min_samples_split=5, n_estimators=500 \n",
            "[CV]  bootstrap=False, max_depth=15, min_samples_split=5, n_estimators=500, score=0.981, total=   2.2s\n",
            "[CV] bootstrap=False, max_depth=15, min_samples_split=5, n_estimators=500 \n",
            "[CV]  bootstrap=False, max_depth=15, min_samples_split=5, n_estimators=500, score=0.979, total=   2.2s\n",
            "[CV] bootstrap=False, max_depth=15, min_samples_split=5, n_estimators=700 \n",
            "[CV]  bootstrap=False, max_depth=15, min_samples_split=5, n_estimators=700, score=0.987, total=   3.1s\n",
            "[CV] bootstrap=False, max_depth=15, min_samples_split=5, n_estimators=700 \n",
            "[CV]  bootstrap=False, max_depth=15, min_samples_split=5, n_estimators=700, score=0.980, total=   3.1s\n",
            "[CV] bootstrap=False, max_depth=15, min_samples_split=5, n_estimators=700 \n",
            "[CV]  bootstrap=False, max_depth=15, min_samples_split=5, n_estimators=700, score=0.980, total=   3.1s\n",
            "[CV] bootstrap=False, max_depth=15, min_samples_split=5, n_estimators=1000 \n",
            "[CV]  bootstrap=False, max_depth=15, min_samples_split=5, n_estimators=1000, score=0.987, total=   4.5s\n",
            "[CV] bootstrap=False, max_depth=15, min_samples_split=5, n_estimators=1000 \n",
            "[CV]  bootstrap=False, max_depth=15, min_samples_split=5, n_estimators=1000, score=0.982, total=   4.4s\n",
            "[CV] bootstrap=False, max_depth=15, min_samples_split=5, n_estimators=1000 \n",
            "[CV]  bootstrap=False, max_depth=15, min_samples_split=5, n_estimators=1000, score=0.978, total=   4.5s\n",
            "[CV] bootstrap=False, max_depth=15, min_samples_split=10, n_estimators=400 \n",
            "[CV]  bootstrap=False, max_depth=15, min_samples_split=10, n_estimators=400, score=0.981, total=   1.7s\n",
            "[CV] bootstrap=False, max_depth=15, min_samples_split=10, n_estimators=400 \n",
            "[CV]  bootstrap=False, max_depth=15, min_samples_split=10, n_estimators=400, score=0.978, total=   1.7s\n",
            "[CV] bootstrap=False, max_depth=15, min_samples_split=10, n_estimators=400 \n",
            "[CV]  bootstrap=False, max_depth=15, min_samples_split=10, n_estimators=400, score=0.974, total=   1.7s\n",
            "[CV] bootstrap=False, max_depth=15, min_samples_split=10, n_estimators=500 \n",
            "[CV]  bootstrap=False, max_depth=15, min_samples_split=10, n_estimators=500, score=0.980, total=   2.2s\n",
            "[CV] bootstrap=False, max_depth=15, min_samples_split=10, n_estimators=500 \n",
            "[CV]  bootstrap=False, max_depth=15, min_samples_split=10, n_estimators=500, score=0.978, total=   2.2s\n",
            "[CV] bootstrap=False, max_depth=15, min_samples_split=10, n_estimators=500 \n",
            "[CV]  bootstrap=False, max_depth=15, min_samples_split=10, n_estimators=500, score=0.972, total=   2.1s\n",
            "[CV] bootstrap=False, max_depth=15, min_samples_split=10, n_estimators=700 \n",
            "[CV]  bootstrap=False, max_depth=15, min_samples_split=10, n_estimators=700, score=0.981, total=   3.0s\n",
            "[CV] bootstrap=False, max_depth=15, min_samples_split=10, n_estimators=700 \n",
            "[CV]  bootstrap=False, max_depth=15, min_samples_split=10, n_estimators=700, score=0.978, total=   3.0s\n",
            "[CV] bootstrap=False, max_depth=15, min_samples_split=10, n_estimators=700 \n",
            "[CV]  bootstrap=False, max_depth=15, min_samples_split=10, n_estimators=700, score=0.974, total=   3.0s\n",
            "[CV] bootstrap=False, max_depth=15, min_samples_split=10, n_estimators=1000 \n",
            "[CV]  bootstrap=False, max_depth=15, min_samples_split=10, n_estimators=1000, score=0.981, total=   4.3s\n",
            "[CV] bootstrap=False, max_depth=15, min_samples_split=10, n_estimators=1000 \n",
            "[CV]  bootstrap=False, max_depth=15, min_samples_split=10, n_estimators=1000, score=0.978, total=   4.3s\n",
            "[CV] bootstrap=False, max_depth=15, min_samples_split=10, n_estimators=1000 \n",
            "[CV]  bootstrap=False, max_depth=15, min_samples_split=10, n_estimators=1000, score=0.973, total=   4.3s\n",
            "[CV] bootstrap=False, max_depth=15, min_samples_split=20, n_estimators=400 \n",
            "[CV]  bootstrap=False, max_depth=15, min_samples_split=20, n_estimators=400, score=0.967, total=   1.7s\n",
            "[CV] bootstrap=False, max_depth=15, min_samples_split=20, n_estimators=400 \n",
            "[CV]  bootstrap=False, max_depth=15, min_samples_split=20, n_estimators=400, score=0.962, total=   1.6s\n",
            "[CV] bootstrap=False, max_depth=15, min_samples_split=20, n_estimators=400 \n",
            "[CV]  bootstrap=False, max_depth=15, min_samples_split=20, n_estimators=400, score=0.964, total=   1.6s\n",
            "[CV] bootstrap=False, max_depth=15, min_samples_split=20, n_estimators=500 \n",
            "[CV]  bootstrap=False, max_depth=15, min_samples_split=20, n_estimators=500, score=0.967, total=   2.0s\n",
            "[CV] bootstrap=False, max_depth=15, min_samples_split=20, n_estimators=500 \n",
            "[CV]  bootstrap=False, max_depth=15, min_samples_split=20, n_estimators=500, score=0.964, total=   2.0s\n",
            "[CV] bootstrap=False, max_depth=15, min_samples_split=20, n_estimators=500 \n",
            "[CV]  bootstrap=False, max_depth=15, min_samples_split=20, n_estimators=500, score=0.965, total=   2.1s\n",
            "[CV] bootstrap=False, max_depth=15, min_samples_split=20, n_estimators=700 \n",
            "[CV]  bootstrap=False, max_depth=15, min_samples_split=20, n_estimators=700, score=0.965, total=   2.9s\n",
            "[CV] bootstrap=False, max_depth=15, min_samples_split=20, n_estimators=700 \n",
            "[CV]  bootstrap=False, max_depth=15, min_samples_split=20, n_estimators=700, score=0.962, total=   2.9s\n",
            "[CV] bootstrap=False, max_depth=15, min_samples_split=20, n_estimators=700 \n",
            "[CV]  bootstrap=False, max_depth=15, min_samples_split=20, n_estimators=700, score=0.962, total=   2.9s\n",
            "[CV] bootstrap=False, max_depth=15, min_samples_split=20, n_estimators=1000 \n",
            "[CV]  bootstrap=False, max_depth=15, min_samples_split=20, n_estimators=1000, score=0.968, total=   4.2s\n",
            "[CV] bootstrap=False, max_depth=15, min_samples_split=20, n_estimators=1000 \n",
            "[CV]  bootstrap=False, max_depth=15, min_samples_split=20, n_estimators=1000, score=0.963, total=   4.1s\n",
            "[CV] bootstrap=False, max_depth=15, min_samples_split=20, n_estimators=1000 \n",
            "[CV]  bootstrap=False, max_depth=15, min_samples_split=20, n_estimators=1000, score=0.963, total=   4.1s\n"
          ],
          "name": "stdout"
        },
        {
          "output_type": "stream",
          "text": [
            "[Parallel(n_jobs=1)]: Done 288 out of 288 | elapsed: 11.1min finished\n"
          ],
          "name": "stderr"
        }
      ]
    },
    {
      "cell_type": "code",
      "metadata": {
        "colab": {
          "base_uri": "https://localhost:8080/"
        },
        "id": "X3TReMo9inTC",
        "outputId": "9d9b2b03-7313-41fd-dde3-5d2993fb9b15"
      },
      "source": [
        "gsc.best_estimator_"
      ],
      "execution_count": null,
      "outputs": [
        {
          "output_type": "execute_result",
          "data": {
            "text/plain": [
              "ExtraTreesClassifier(bootstrap=False, ccp_alpha=0.0, class_weight=None,\n",
              "                     criterion='gini', max_depth=15, max_features='auto',\n",
              "                     max_leaf_nodes=None, max_samples=None,\n",
              "                     min_impurity_decrease=0.0, min_impurity_split=None,\n",
              "                     min_samples_leaf=1, min_samples_split=2,\n",
              "                     min_weight_fraction_leaf=0.0, n_estimators=400,\n",
              "                     n_jobs=None, oob_score=False, random_state=None, verbose=0,\n",
              "                     warm_start=False)"
            ]
          },
          "metadata": {
            "tags": []
          },
          "execution_count": 173
        }
      ]
    },
    {
      "cell_type": "code",
      "metadata": {
        "id": "d777jWu5j5Rp"
      },
      "source": [
        "et = ExtraTreesClassifier(bootstrap=False, ccp_alpha=0.0, class_weight=None,\n",
        "                     criterion='gini', max_depth=15, max_features='auto',\n",
        "                     max_leaf_nodes=None, max_samples=None,\n",
        "                     min_impurity_decrease=0.0, min_impurity_split=None,\n",
        "                     min_samples_leaf=1, min_samples_split=2,\n",
        "                     min_weight_fraction_leaf=0.0, n_estimators=400,\n",
        "                     n_jobs=None, oob_score=False, random_state=None, verbose=0,\n",
        "                     warm_start=False)"
      ],
      "execution_count": null,
      "outputs": []
    },
    {
      "cell_type": "code",
      "metadata": {
        "colab": {
          "base_uri": "https://localhost:8080/"
        },
        "id": "cTLe-G2Lj_C9",
        "outputId": "85126612-2852-4e77-f882-b810974c8193"
      },
      "source": [
        "et.fit(x.values,y.values)"
      ],
      "execution_count": null,
      "outputs": [
        {
          "output_type": "execute_result",
          "data": {
            "text/plain": [
              "ExtraTreesClassifier(bootstrap=False, ccp_alpha=0.0, class_weight=None,\n",
              "                     criterion='gini', max_depth=15, max_features='auto',\n",
              "                     max_leaf_nodes=None, max_samples=None,\n",
              "                     min_impurity_decrease=0.0, min_impurity_split=None,\n",
              "                     min_samples_leaf=1, min_samples_split=2,\n",
              "                     min_weight_fraction_leaf=0.0, n_estimators=400,\n",
              "                     n_jobs=None, oob_score=False, random_state=None, verbose=0,\n",
              "                     warm_start=False)"
            ]
          },
          "metadata": {
            "tags": []
          },
          "execution_count": 175
        }
      ]
    },
    {
      "cell_type": "code",
      "metadata": {
        "colab": {
          "base_uri": "https://localhost:8080/",
          "height": 300
        },
        "id": "EmveeLurkCL-",
        "outputId": "ba3327f1-0811-42af-8399-0b422a2bedc9"
      },
      "source": [
        "prediction = et.predict(x_test)\n",
        "cm = confusion_matrix(y_test, prediction)\n",
        "sum = 0\n",
        "for i in range(cm.shape[0]):\n",
        "    sum += cm[i][i]\n",
        "    \n",
        "accuracy = sum/x_test.shape[0]                \n",
        "print(accuracy)\n",
        "sns.heatmap(cm,annot=True)"
      ],
      "execution_count": null,
      "outputs": [
        {
          "output_type": "stream",
          "text": [
            "1.0\n"
          ],
          "name": "stdout"
        },
        {
          "output_type": "execute_result",
          "data": {
            "text/plain": [
              "<matplotlib.axes._subplots.AxesSubplot at 0x7f2d9364dcc0>"
            ]
          },
          "metadata": {
            "tags": []
          },
          "execution_count": 176
        },
        {
          "output_type": "display_data",
          "data": {
            "image/png": "[encoded data removed]",
            "text/plain": [
              "<Figure size 432x288 with 2 Axes>"
            ]
          },
          "metadata": {
            "tags": [],
            "needs_background": "light"
          }
        }
      ]
    },
    {
      "cell_type": "code",
      "metadata": {
        "colab": {
          "base_uri": "https://localhost:8080/"
        },
        "id": "CBS3fCkDl2zo",
        "outputId": "096cfd50-c564-4fea-dda3-be81c38720d9"
      },
      "source": [
        "from sklearn.metrics import f1_score\n",
        "print('F1 Score is: ', f1_score(y_test, prediction, average = 'weighted'))"
      ],
      "execution_count": null,
      "outputs": [
        {
          "output_type": "stream",
          "text": [
            "F1 Score is:  1.0\n"
          ],
          "name": "stdout"
        }
      ]
    },
    {
      "cell_type": "code",
      "metadata": {
        "colab": {
          "base_uri": "https://localhost:8080/",
          "height": 17
        },
        "id": "Nui-eEZNkHCY",
        "outputId": "cdcc28c7-23af-47c4-8904-dc49f2ab9c50"
      },
      "source": [
        "test_data = pd.read_csv('https://raw.githubusercontent.com/dphi-official/Datasets/master/sukhna_dhanas/test_set_label.csv')\n",
        "# test_data = test_data[selected_columns]\n",
        "target = et.predict(test_data.values)\n",
        "res = pd.DataFrame(target) #target is nothing but the final predictions of your model on input features of your new unseen test data\n",
        "res.index = test_data.index # its important for comparison. Here \"test_new\" is your new test dataset\n",
        "res.columns = [\"prediction\"]\n",
        "res.to_csv(\"submission.csv\") # the csv file will be saved locally on the same location where this notebook is located.\n",
        "from google.colab import files\n",
        "res.to_csv('submission.csv',index=False)\n",
        "files.download('submission.csv')"
      ],
      "execution_count": null,
      "outputs": [
        {
          "output_type": "display_data",
          "data": {
            "application/javascript": [
              "\n",
              "    async function download(id, filename, size) {\n",
              "      if (!google.colab.kernel.accessAllowed) {\n",
              "        return;\n",
              "      }\n",
              "      const div = document.createElement('div');\n",
              "      const label = document.createElement('label');\n",
              "      label.textContent = `Downloading \"${filename}\": `;\n",
              "      div.appendChild(label);\n",
              "      const progress = document.createElement('progress');\n",
              "      progress.max = size;\n",
              "      div.appendChild(progress);\n",
              "      document.body.appendChild(div);\n",
              "\n",
              "      const buffers = [];\n",
              "      let downloaded = 0;\n",
              "\n",
              "      const channel = await google.colab.kernel.comms.open(id);\n",
              "      // Send a message to notify the kernel that we're ready.\n",
              "      channel.send({})\n",
              "\n",
              "      for await (const message of channel.messages) {\n",
              "        // Send a message to notify the kernel that we're ready.\n",
              "        channel.send({})\n",
              "        if (message.buffers) {\n",
              "          for (const buffer of message.buffers) {\n",
              "            buffers.push(buffer);\n",
              "            downloaded += buffer.byteLength;\n",
              "            progress.value = downloaded;\n",
              "          }\n",
              "        }\n",
              "      }\n",
              "      const blob = new Blob(buffers, {type: 'application/binary'});\n",
              "      const a = document.createElement('a');\n",
              "      a.href = window.URL.createObjectURL(blob);\n",
              "      a.download = filename;\n",
              "      div.appendChild(a);\n",
              "      a.click();\n",
              "      div.remove();\n",
              "    }\n",
              "  "
            ],
            "text/plain": [
              "<IPython.core.display.Javascript object>"
            ]
          },
          "metadata": {
            "tags": []
          }
        },
        {
          "output_type": "display_data",
          "data": {
            "application/javascript": [
              "download(\"download_a92f786f-298a-4376-af02-88cb65b0ff83\", \"submission.csv\", 6923)"
            ],
            "text/plain": [
              "<IPython.core.display.Javascript object>"
            ]
          },
          "metadata": {
            "tags": []
          }
        }
      ]
    },
    {
      "cell_type": "code",
      "metadata": {
        "colab": {
          "base_uri": "https://localhost:8080/"
        },
        "id": "oaXO2VValgkP",
        "outputId": "64429ce9-4417-40a9-9680-05d432f321d2"
      },
      "source": [
        "int(X) "
      ],
      "execution_count": null,
      "outputs": [
        {
          "output_type": "execute_result",
          "data": {
            "text/plain": [
              "1"
            ]
          },
          "metadata": {
            "tags": []
          },
          "execution_count": 79
        }
      ]
    },
    {
      "cell_type": "code",
      "metadata": {
        "id": "MTiIXkH1eV9i"
      },
      "source": [
        "import math\n",
        "import numpy as np\n",
        "\n",
        "\n",
        "# Method to make predictions\n",
        "def predict(X, b, a):\n",
        "    return np.array([1 / (1 + math.exp(-1*b + -1*a*X)) ])\n",
        "\n",
        "# Method to train the model\n",
        "def logistic_regression(X, Y,a,b):\n",
        "\n",
        "\n",
        "    # Initializing variables\n",
        "    b = b\n",
        "    a = a\n",
        "    L = 1\n",
        "    epochs = 100\n",
        "\n",
        "    for epoch in range(epochs):\n",
        "        y_pred = predict(X, b, a)\n",
        "        D_b = -2 * sum((Y - y_pred) * y_pred * (1 - y_pred))  # Derivative of loss wrt b\n",
        "        D_a = -2 * sum(X * (Y - y_pred) * y_pred * (1 - y_pred))  # Derivative of loss wrt a\n",
        "        # Update b and a\n",
        "        b = b -(L * D_b)\n",
        "        a = a - (L * D_a)\n",
        "    \n",
        "    return b, a"
      ],
      "execution_count": null,
      "outputs": []
    },
    {
      "cell_type": "code",
      "metadata": {
        "colab": {
          "base_uri": "https://localhost:8080/"
        },
        "id": "LnwsCH_Rhshh",
        "outputId": "8b2f4801-6d6c-4612-d925-55b8d26b1bf1"
      },
      "source": [
        "np.array(b0)"
      ],
      "execution_count": null,
      "outputs": [
        {
          "output_type": "execute_result",
          "data": {
            "text/plain": [
              "array(2.87135877)"
            ]
          },
          "metadata": {
            "tags": []
          },
          "execution_count": 66
        }
      ]
    },
    {
      "cell_type": "code",
      "metadata": {
        "colab": {
          "base_uri": "https://localhost:8080/"
        },
        "id": "RKRHSJaBiWt5",
        "outputId": "c998255c-1849-4710-dee0-9c7926aa578c"
      },
      "source": [
        "a"
      ],
      "execution_count": null,
      "outputs": [
        {
          "output_type": "execute_result",
          "data": {
            "text/plain": [
              "1.0"
            ]
          },
          "metadata": {
            "tags": []
          },
          "execution_count": 65
        }
      ]
    },
    {
      "cell_type": "code",
      "metadata": {
        "id": "Qh1jCezyinqL"
      },
      "source": [
        ""
      ],
      "execution_count": null,
      "outputs": []
    }
  ]
}